{
 "cells": [
  {
   "cell_type": "code",
   "id": "initial_id",
   "metadata": {
    "collapsed": true,
    "ExecuteTime": {
     "end_time": "2024-07-23T10:13:02.286543Z",
     "start_time": "2024-07-23T10:13:01.664546Z"
    }
   },
   "source": [
    "import pandas as pd\n",
    "import numpy as np\n",
    "import matplotlib.pyplot as plt\n",
    "import seaborn as sns\n",
    "from sklearn.model_selection import train_test_split\n",
    "from sklearn.preprocessing import StandardScaler\n",
    "from sklearn.linear_model import LogisticRegression\n",
    "from sklearn.metrics import accuracy_score, confusion_matrix, classification_report\n",
    "from sklearn.preprocessing import MinMaxScaler\n",
    "from sklearn.compose import ColumnTransformer\n",
    "from imblearn.over_sampling import SMOTENC\n",
    "from imblearn.under_sampling import InstanceHardnessThreshold\n",
    "from sklearn.feature_selection import SelectKBest, chi2, mutual_info_classif\n",
    "from sklearn.ensemble import ExtraTreesClassifier\n",
    "from sklearn.feature_selection import RFE\n",
    "from sklearn.ensemble import RandomForestClassifier\n",
    "from sklearn.preprocessing import LabelEncoder\n",
    "from imblearn.under_sampling import NearMiss\n",
    "from sklearn.pipeline import Pipeline\n",
    "from imblearn.under_sampling import TomekLinks\n",
    "from imblearn.under_sampling import RandomUnderSampler, NearMiss\n",
    "from sklearn.model_selection import StratifiedKFold\n",
    "from imblearn.pipeline import make_pipeline\n",
    "from imblearn.under_sampling import EditedNearestNeighbours\n",
    "from sklearn.metrics import make_scorer, recall_score, f1_score\n",
    "from sklearn.metrics import roc_curve\n",
    "from sklearn.model_selection import RandomizedSearchCV, GridSearchCV\n",
    "from aequitas.group import Group\n",
    "from aequitas.bias import Bias\n",
    "from aequitas.fairness import Fairness\n",
    "from sklearn.metrics import roc_auc_score\n",
    "from collections import Counter\n",
    "from sklearn.metrics import auc\n",
    "import pickle"
   ],
   "outputs": [],
   "execution_count": 1
  },
  {
   "metadata": {},
   "cell_type": "markdown",
   "source": [
    "# 1. Load data & preprocessing\n",
    "\n",
    "## 1.1 Encoding for Categorical Feature\n",
    "- label encoding: deal with categorical features;\n",
    "    - one hot encoding: 生成更多特征\n",
    "- pick the features as X and the target as y;\n",
    "- split the data into training and testing sets; (选择前六个月0-5作为训练集，这是作者提到的一个实践方式）\n",
    "- scale the numerical features(MinMaxScaler);由于大量特征的分布并不趋于正态，有大量异常值等，选择minmax更好\n",
    "- store the indices of the categorical features(for later use in SMOTE-NC);"
   ],
   "id": "cb1464a319ff428a"
  },
  {
   "metadata": {
    "ExecuteTime": {
     "end_time": "2024-07-23T15:48:16.729130Z",
     "start_time": "2024-07-23T15:48:15.188840Z"
    }
   },
   "cell_type": "code",
   "source": [
    "base=pd.read_csv('./datasets/processed_base.csv')\n",
    "base.head()"
   ],
   "id": "33de3b6af6dda360",
   "outputs": [
    {
     "data": {
      "text/plain": [
       "   fraud_bool  income  name_email_similarity  current_address_months_count  \\\n",
       "0           0     0.3               0.986506                          25.0   \n",
       "1           0     0.8               0.617426                          89.0   \n",
       "2           0     0.8               0.996707                          14.0   \n",
       "3           0     0.6               0.475100                          14.0   \n",
       "4           0     0.9               0.842307                          29.0   \n",
       "\n",
       "   customer_age  days_since_request payment_type  zip_count_4w   velocity_6h  \\\n",
       "0            40            0.006735           AA          1059  13096.035018   \n",
       "1            20            0.010095           AD          1658   9223.283431   \n",
       "2            40            0.012316           AB          1095   4471.472149   \n",
       "3            30            0.006991           AB          3483  14431.993621   \n",
       "4            40            5.742626           AA          2339   7601.511579   \n",
       "\n",
       "   velocity_24h  ...  bank_months_count  has_other_cards  \\\n",
       "0   7850.955007  ...                9.0                0   \n",
       "1   5745.251481  ...                2.0                0   \n",
       "2   5471.988958  ...               30.0                0   \n",
       "3   6755.344479  ...                1.0                0   \n",
       "4   5124.046930  ...               26.0                0   \n",
       "\n",
       "   proposed_credit_limit foreign_request    source  session_length_in_minutes  \\\n",
       "0                 1500.0               0  INTERNET                  16.224843   \n",
       "1                 1500.0               0  INTERNET                   3.363854   \n",
       "2                  200.0               0  INTERNET                  22.730559   \n",
       "3                  200.0               0  INTERNET                  15.215816   \n",
       "4                  200.0               0  INTERNET                   3.743048   \n",
       "\n",
       "  device_os  keep_alive_session  device_distinct_emails_8w  month  \n",
       "0     linux                   1                        1.0      0  \n",
       "1     other                   1                        1.0      0  \n",
       "2   windows                   0                        1.0      0  \n",
       "3     linux                   1                        1.0      0  \n",
       "4     other                   0                        1.0      0  \n",
       "\n",
       "[5 rows x 29 columns]"
      ],
      "text/html": [
       "<div>\n",
       "<style scoped>\n",
       "    .dataframe tbody tr th:only-of-type {\n",
       "        vertical-align: middle;\n",
       "    }\n",
       "\n",
       "    .dataframe tbody tr th {\n",
       "        vertical-align: top;\n",
       "    }\n",
       "\n",
       "    .dataframe thead th {\n",
       "        text-align: right;\n",
       "    }\n",
       "</style>\n",
       "<table border=\"1\" class=\"dataframe\">\n",
       "  <thead>\n",
       "    <tr style=\"text-align: right;\">\n",
       "      <th></th>\n",
       "      <th>fraud_bool</th>\n",
       "      <th>income</th>\n",
       "      <th>name_email_similarity</th>\n",
       "      <th>current_address_months_count</th>\n",
       "      <th>customer_age</th>\n",
       "      <th>days_since_request</th>\n",
       "      <th>payment_type</th>\n",
       "      <th>zip_count_4w</th>\n",
       "      <th>velocity_6h</th>\n",
       "      <th>velocity_24h</th>\n",
       "      <th>...</th>\n",
       "      <th>bank_months_count</th>\n",
       "      <th>has_other_cards</th>\n",
       "      <th>proposed_credit_limit</th>\n",
       "      <th>foreign_request</th>\n",
       "      <th>source</th>\n",
       "      <th>session_length_in_minutes</th>\n",
       "      <th>device_os</th>\n",
       "      <th>keep_alive_session</th>\n",
       "      <th>device_distinct_emails_8w</th>\n",
       "      <th>month</th>\n",
       "    </tr>\n",
       "  </thead>\n",
       "  <tbody>\n",
       "    <tr>\n",
       "      <th>0</th>\n",
       "      <td>0</td>\n",
       "      <td>0.3</td>\n",
       "      <td>0.986506</td>\n",
       "      <td>25.0</td>\n",
       "      <td>40</td>\n",
       "      <td>0.006735</td>\n",
       "      <td>AA</td>\n",
       "      <td>1059</td>\n",
       "      <td>13096.035018</td>\n",
       "      <td>7850.955007</td>\n",
       "      <td>...</td>\n",
       "      <td>9.0</td>\n",
       "      <td>0</td>\n",
       "      <td>1500.0</td>\n",
       "      <td>0</td>\n",
       "      <td>INTERNET</td>\n",
       "      <td>16.224843</td>\n",
       "      <td>linux</td>\n",
       "      <td>1</td>\n",
       "      <td>1.0</td>\n",
       "      <td>0</td>\n",
       "    </tr>\n",
       "    <tr>\n",
       "      <th>1</th>\n",
       "      <td>0</td>\n",
       "      <td>0.8</td>\n",
       "      <td>0.617426</td>\n",
       "      <td>89.0</td>\n",
       "      <td>20</td>\n",
       "      <td>0.010095</td>\n",
       "      <td>AD</td>\n",
       "      <td>1658</td>\n",
       "      <td>9223.283431</td>\n",
       "      <td>5745.251481</td>\n",
       "      <td>...</td>\n",
       "      <td>2.0</td>\n",
       "      <td>0</td>\n",
       "      <td>1500.0</td>\n",
       "      <td>0</td>\n",
       "      <td>INTERNET</td>\n",
       "      <td>3.363854</td>\n",
       "      <td>other</td>\n",
       "      <td>1</td>\n",
       "      <td>1.0</td>\n",
       "      <td>0</td>\n",
       "    </tr>\n",
       "    <tr>\n",
       "      <th>2</th>\n",
       "      <td>0</td>\n",
       "      <td>0.8</td>\n",
       "      <td>0.996707</td>\n",
       "      <td>14.0</td>\n",
       "      <td>40</td>\n",
       "      <td>0.012316</td>\n",
       "      <td>AB</td>\n",
       "      <td>1095</td>\n",
       "      <td>4471.472149</td>\n",
       "      <td>5471.988958</td>\n",
       "      <td>...</td>\n",
       "      <td>30.0</td>\n",
       "      <td>0</td>\n",
       "      <td>200.0</td>\n",
       "      <td>0</td>\n",
       "      <td>INTERNET</td>\n",
       "      <td>22.730559</td>\n",
       "      <td>windows</td>\n",
       "      <td>0</td>\n",
       "      <td>1.0</td>\n",
       "      <td>0</td>\n",
       "    </tr>\n",
       "    <tr>\n",
       "      <th>3</th>\n",
       "      <td>0</td>\n",
       "      <td>0.6</td>\n",
       "      <td>0.475100</td>\n",
       "      <td>14.0</td>\n",
       "      <td>30</td>\n",
       "      <td>0.006991</td>\n",
       "      <td>AB</td>\n",
       "      <td>3483</td>\n",
       "      <td>14431.993621</td>\n",
       "      <td>6755.344479</td>\n",
       "      <td>...</td>\n",
       "      <td>1.0</td>\n",
       "      <td>0</td>\n",
       "      <td>200.0</td>\n",
       "      <td>0</td>\n",
       "      <td>INTERNET</td>\n",
       "      <td>15.215816</td>\n",
       "      <td>linux</td>\n",
       "      <td>1</td>\n",
       "      <td>1.0</td>\n",
       "      <td>0</td>\n",
       "    </tr>\n",
       "    <tr>\n",
       "      <th>4</th>\n",
       "      <td>0</td>\n",
       "      <td>0.9</td>\n",
       "      <td>0.842307</td>\n",
       "      <td>29.0</td>\n",
       "      <td>40</td>\n",
       "      <td>5.742626</td>\n",
       "      <td>AA</td>\n",
       "      <td>2339</td>\n",
       "      <td>7601.511579</td>\n",
       "      <td>5124.046930</td>\n",
       "      <td>...</td>\n",
       "      <td>26.0</td>\n",
       "      <td>0</td>\n",
       "      <td>200.0</td>\n",
       "      <td>0</td>\n",
       "      <td>INTERNET</td>\n",
       "      <td>3.743048</td>\n",
       "      <td>other</td>\n",
       "      <td>0</td>\n",
       "      <td>1.0</td>\n",
       "      <td>0</td>\n",
       "    </tr>\n",
       "  </tbody>\n",
       "</table>\n",
       "<p>5 rows × 29 columns</p>\n",
       "</div>"
      ]
     },
     "execution_count": 31,
     "metadata": {},
     "output_type": "execute_result"
    }
   ],
   "execution_count": 31
  },
  {
   "metadata": {
    "ExecuteTime": {
     "end_time": "2024-07-23T15:48:17.928622Z",
     "start_time": "2024-07-23T15:48:17.399281Z"
    }
   },
   "cell_type": "code",
   "source": [
    "# labnel encoding\n",
    "def label_encoding(data):\n",
    "    # 需要进行Label Encoding的分类变量\n",
    "    categorical_features = ['payment_type', 'employment_status', 'housing_status', 'source', 'device_os']\n",
    "    \n",
    "    # 创建 LabelEncoder 实例\n",
    "    label_encoder = LabelEncoder()\n",
    "    \n",
    "    # 对每个分类变量进行 Label Encoding\n",
    "    for feature in categorical_features:\n",
    "        data[feature] = label_encoder.fit_transform(data[feature])\n",
    "    \n",
    "    return data\n",
    "\n",
    "# one-hot encoding\n",
    "def one_hot_encoding(data):\n",
    "    # 需要进行One-Hot Encoding的分类变量\n",
    "    categorical_features = ['payment_type', 'employment_status', 'housing_status', 'source', 'device_os']\n",
    "    \n",
    "    # 使用pd.get_dummies进行One-Hot Encoding\n",
    "    # drop_first=True表示删除第一个类别，避免多重共线性,同时避免引入不必要的特征并且保留了所有信息\n",
    "    # 此时先用False保留所有特征，后续建立模型时候可以选择drop_first=True来避免多重共线性并减少特征数量\n",
    "    data_encoded = pd.get_dummies(data, columns=categorical_features,drop_first=True)\n",
    "    \n",
    "    # 找出新生成的 One-Hot 编码列\n",
    "    encoded_columns = data_encoded.columns.difference(data.columns)\n",
    "    \n",
    "    # 将 One-Hot 编码列转换为整数类型\n",
    "    data_encoded[encoded_columns] = data_encoded[encoded_columns].astype(int)\n",
    "    \n",
    "    return data_encoded\n",
    "\n",
    "# 示例预处理\n",
    "df = one_hot_encoding(base)\n",
    "df.head()\n",
    "\n",
    "# df = label_encoding(base)\n",
    "# df.head()"
   ],
   "id": "906fbb728a849251",
   "outputs": [
    {
     "data": {
      "text/plain": [
       "   fraud_bool  income  name_email_similarity  current_address_months_count  \\\n",
       "0           0     0.3               0.986506                          25.0   \n",
       "1           0     0.8               0.617426                          89.0   \n",
       "2           0     0.8               0.996707                          14.0   \n",
       "3           0     0.6               0.475100                          14.0   \n",
       "4           0     0.9               0.842307                          29.0   \n",
       "\n",
       "   customer_age  days_since_request  zip_count_4w   velocity_6h  velocity_24h  \\\n",
       "0            40            0.006735          1059  13096.035018   7850.955007   \n",
       "1            20            0.010095          1658   9223.283431   5745.251481   \n",
       "2            40            0.012316          1095   4471.472149   5471.988958   \n",
       "3            30            0.006991          3483  14431.993621   6755.344479   \n",
       "4            40            5.742626          2339   7601.511579   5124.046930   \n",
       "\n",
       "   velocity_4w  ...  housing_status_BC  housing_status_BD  housing_status_BE  \\\n",
       "0  6742.080561  ...                  1                  0                  0   \n",
       "1  5941.664859  ...                  1                  0                  0   \n",
       "2  5992.555113  ...                  1                  0                  0   \n",
       "3  5970.336831  ...                  1                  0                  0   \n",
       "4  5940.734212  ...                  1                  0                  0   \n",
       "\n",
       "   housing_status_BF  housing_status_BG  source_TELEAPP  device_os_macintosh  \\\n",
       "0                  0                  0               0                    0   \n",
       "1                  0                  0               0                    0   \n",
       "2                  0                  0               0                    0   \n",
       "3                  0                  0               0                    0   \n",
       "4                  0                  0               0                    0   \n",
       "\n",
       "   device_os_other  device_os_windows  device_os_x11  \n",
       "0                0                  0              0  \n",
       "1                1                  0              0  \n",
       "2                0                  1              0  \n",
       "3                0                  0              0  \n",
       "4                1                  0              0  \n",
       "\n",
       "[5 rows x 45 columns]"
      ],
      "text/html": [
       "<div>\n",
       "<style scoped>\n",
       "    .dataframe tbody tr th:only-of-type {\n",
       "        vertical-align: middle;\n",
       "    }\n",
       "\n",
       "    .dataframe tbody tr th {\n",
       "        vertical-align: top;\n",
       "    }\n",
       "\n",
       "    .dataframe thead th {\n",
       "        text-align: right;\n",
       "    }\n",
       "</style>\n",
       "<table border=\"1\" class=\"dataframe\">\n",
       "  <thead>\n",
       "    <tr style=\"text-align: right;\">\n",
       "      <th></th>\n",
       "      <th>fraud_bool</th>\n",
       "      <th>income</th>\n",
       "      <th>name_email_similarity</th>\n",
       "      <th>current_address_months_count</th>\n",
       "      <th>customer_age</th>\n",
       "      <th>days_since_request</th>\n",
       "      <th>zip_count_4w</th>\n",
       "      <th>velocity_6h</th>\n",
       "      <th>velocity_24h</th>\n",
       "      <th>velocity_4w</th>\n",
       "      <th>...</th>\n",
       "      <th>housing_status_BC</th>\n",
       "      <th>housing_status_BD</th>\n",
       "      <th>housing_status_BE</th>\n",
       "      <th>housing_status_BF</th>\n",
       "      <th>housing_status_BG</th>\n",
       "      <th>source_TELEAPP</th>\n",
       "      <th>device_os_macintosh</th>\n",
       "      <th>device_os_other</th>\n",
       "      <th>device_os_windows</th>\n",
       "      <th>device_os_x11</th>\n",
       "    </tr>\n",
       "  </thead>\n",
       "  <tbody>\n",
       "    <tr>\n",
       "      <th>0</th>\n",
       "      <td>0</td>\n",
       "      <td>0.3</td>\n",
       "      <td>0.986506</td>\n",
       "      <td>25.0</td>\n",
       "      <td>40</td>\n",
       "      <td>0.006735</td>\n",
       "      <td>1059</td>\n",
       "      <td>13096.035018</td>\n",
       "      <td>7850.955007</td>\n",
       "      <td>6742.080561</td>\n",
       "      <td>...</td>\n",
       "      <td>1</td>\n",
       "      <td>0</td>\n",
       "      <td>0</td>\n",
       "      <td>0</td>\n",
       "      <td>0</td>\n",
       "      <td>0</td>\n",
       "      <td>0</td>\n",
       "      <td>0</td>\n",
       "      <td>0</td>\n",
       "      <td>0</td>\n",
       "    </tr>\n",
       "    <tr>\n",
       "      <th>1</th>\n",
       "      <td>0</td>\n",
       "      <td>0.8</td>\n",
       "      <td>0.617426</td>\n",
       "      <td>89.0</td>\n",
       "      <td>20</td>\n",
       "      <td>0.010095</td>\n",
       "      <td>1658</td>\n",
       "      <td>9223.283431</td>\n",
       "      <td>5745.251481</td>\n",
       "      <td>5941.664859</td>\n",
       "      <td>...</td>\n",
       "      <td>1</td>\n",
       "      <td>0</td>\n",
       "      <td>0</td>\n",
       "      <td>0</td>\n",
       "      <td>0</td>\n",
       "      <td>0</td>\n",
       "      <td>0</td>\n",
       "      <td>1</td>\n",
       "      <td>0</td>\n",
       "      <td>0</td>\n",
       "    </tr>\n",
       "    <tr>\n",
       "      <th>2</th>\n",
       "      <td>0</td>\n",
       "      <td>0.8</td>\n",
       "      <td>0.996707</td>\n",
       "      <td>14.0</td>\n",
       "      <td>40</td>\n",
       "      <td>0.012316</td>\n",
       "      <td>1095</td>\n",
       "      <td>4471.472149</td>\n",
       "      <td>5471.988958</td>\n",
       "      <td>5992.555113</td>\n",
       "      <td>...</td>\n",
       "      <td>1</td>\n",
       "      <td>0</td>\n",
       "      <td>0</td>\n",
       "      <td>0</td>\n",
       "      <td>0</td>\n",
       "      <td>0</td>\n",
       "      <td>0</td>\n",
       "      <td>0</td>\n",
       "      <td>1</td>\n",
       "      <td>0</td>\n",
       "    </tr>\n",
       "    <tr>\n",
       "      <th>3</th>\n",
       "      <td>0</td>\n",
       "      <td>0.6</td>\n",
       "      <td>0.475100</td>\n",
       "      <td>14.0</td>\n",
       "      <td>30</td>\n",
       "      <td>0.006991</td>\n",
       "      <td>3483</td>\n",
       "      <td>14431.993621</td>\n",
       "      <td>6755.344479</td>\n",
       "      <td>5970.336831</td>\n",
       "      <td>...</td>\n",
       "      <td>1</td>\n",
       "      <td>0</td>\n",
       "      <td>0</td>\n",
       "      <td>0</td>\n",
       "      <td>0</td>\n",
       "      <td>0</td>\n",
       "      <td>0</td>\n",
       "      <td>0</td>\n",
       "      <td>0</td>\n",
       "      <td>0</td>\n",
       "    </tr>\n",
       "    <tr>\n",
       "      <th>4</th>\n",
       "      <td>0</td>\n",
       "      <td>0.9</td>\n",
       "      <td>0.842307</td>\n",
       "      <td>29.0</td>\n",
       "      <td>40</td>\n",
       "      <td>5.742626</td>\n",
       "      <td>2339</td>\n",
       "      <td>7601.511579</td>\n",
       "      <td>5124.046930</td>\n",
       "      <td>5940.734212</td>\n",
       "      <td>...</td>\n",
       "      <td>1</td>\n",
       "      <td>0</td>\n",
       "      <td>0</td>\n",
       "      <td>0</td>\n",
       "      <td>0</td>\n",
       "      <td>0</td>\n",
       "      <td>0</td>\n",
       "      <td>1</td>\n",
       "      <td>0</td>\n",
       "      <td>0</td>\n",
       "    </tr>\n",
       "  </tbody>\n",
       "</table>\n",
       "<p>5 rows × 45 columns</p>\n",
       "</div>"
      ]
     },
     "execution_count": 32,
     "metadata": {},
     "output_type": "execute_result"
    }
   ],
   "execution_count": 32
  },
  {
   "metadata": {},
   "cell_type": "markdown",
   "source": [
    "## 1.2 Undersampling\n",
    "\n",
    "NearMiss和RandomUnderSampler是两种常见的欠采样（undersampling）方法，用于处理不平衡数据集中的类别不平衡问题。它们的主要区别如下：\n",
    "\n",
    "### 1. NearMiss\n",
    "\n",
    "NearMiss是一种基于距离的欠采样方法。它有几种变体（例如NearMiss-1，NearMiss-2，NearMiss-3），其主要思想是通过选择与多数类样本最接近的少数类样本来进行欠采样。具体来说：\n",
    "\n",
    "- **NearMiss-1**：选择离最近的少数类样本最近的多数类样本。这种方法倾向于选择与少数类样本最近的多数类样本，保持少数类样本周围的多数类样本。\n",
    "- **NearMiss-2**：选择离最远的少数类样本最近的多数类样本。这种方法倾向于选择那些与少数类样本距离最远的多数类样本，确保选择的多数类样本分布在少数类样本周围。\n",
    "- **NearMiss-3**：根据少数类样本的平均距离来选择多数类样本。这种方法综合了前两种方法的特点，选择那些在少数类样本的平均距离范围内的多数类样本。\n",
    "\n",
    "### 2. RandomUnderSampler\n",
    "\n",
    "RandomUnderSampler是一种简单的随机欠采样方法。它通过随机选择多数类样本来减少其数量，从而平衡数据集中的类分布。这种方法不考虑样本之间的距离或其他特征，仅仅是随机选择一定数量的多数类样本进行移除。\n",
    "\n",
    "### 区别总结\n",
    "\n",
    "- **选择策略**：\n",
    "  - NearMiss：基于样本之间的距离选择多数类样本，有多种变体。\n",
    "  - RandomUnderSampler：随机选择多数类样本，没有考虑样本特征或距离。\n",
    "  \n",
    "- **复杂度**：\n",
    "  - NearMiss：计算复杂度较高，需要计算样本之间的距离。\n",
    "  - RandomUnderSampler：计算复杂度低，直接随机选择样本。\n",
    "\n",
    "- **适用场景**：\n",
    "  - NearMiss：适用于需要考虑样本之间关系的场景，可以帮助保留数据结构。\n",
    "  - RandomUnderSampler：适用于快速简单的欠采样需求，不考虑样本间关系。\n",
    "\n",
    "### 3. IHT\n",
    "Instance Hardness Threshold (IHT) 是一种基于样本难度的下采样方法，它通过移除那些易于分类的多数类样本，只保留那些难以分类的样本，从而减少样本数量。IHT算法通常通过以下步骤实现：\n",
    "\n",
    "计算样本难度：使用分类器对每个样本进行预测，得到每个样本被正确分类的概率。难度较高的样本被赋予较低的概率。\n",
    "选择样本：根据难度阈值，选择那些难度较高（即预测概率较低）的多数类样本进行保留。\n"
   ],
   "id": "8fc57923ca60aac"
  },
  {
   "metadata": {
    "ExecuteTime": {
     "end_time": "2024-07-23T15:48:25.067904Z",
     "start_time": "2024-07-23T15:48:25.049964Z"
    }
   },
   "cell_type": "code",
   "source": [
    "# 下采样函数\n",
    "def undersample_majority_class(x, y, ratio=10, strategy='nearmiss'):\n",
    "    minority_class_size = np.sum(y == 1)\n",
    "    majority_class_size = minority_class_size * ratio\n",
    "    \n",
    "    if strategy == 'random':\n",
    "        undersample = RandomUnderSampler(sampling_strategy={0: majority_class_size, 1: minority_class_size}, random_state=42)\n",
    "    elif strategy == 'nearmiss':\n",
    "        undersample = NearMiss(sampling_strategy=1/ratio, n_jobs=-1)\n",
    "    elif strategy == 'iht':\n",
    "        # clf = RandomForestClassifier(random_state=42,n_jobs=-1)\n",
    "        clf = XGBClassifier(n_jobs=-1, random_state=42)\n",
    "        undersample = InstanceHardnessThreshold(estimator=clf, sampling_strategy=0.1,n_jobs=-1)  \n",
    "    else:\n",
    "        raise ValueError(\"Unsupported strategy. Use 'random', 'nearmiss', or 'iht'.\")\n",
    "    \n",
    "    x_resampled, y_resampled = undersample.fit_resample(x, y)\n",
    "    return x_resampled, y_resampled"
   ],
   "id": "33a743eac7c67f84",
   "outputs": [],
   "execution_count": 33
  },
  {
   "metadata": {
    "ExecuteTime": {
     "end_time": "2024-07-23T15:49:01.675449Z",
     "start_time": "2024-07-23T15:48:43.263698Z"
    }
   },
   "cell_type": "code",
   "source": [
    "# train test split\n",
    "X = df.drop(['fraud_bool'], axis=1)\n",
    "y = df['fraud_bool']\n",
    "X_nm, y_nm = undersample_majority_class(X, y, ratio=10, strategy='iht')\n",
    "y.value_counts(),y_nm.value_counts()"
   ],
   "id": "5de1a682d27ff344",
   "outputs": [
    {
     "name": "stderr",
     "output_type": "stream",
     "text": [
      "E:\\Programming\\anaconda3\\envs\\mytorch\\lib\\site-packages\\joblib\\externals\\loky\\process_executor.py:700: UserWarning: A worker stopped while some jobs were given to the executor. This can be caused by a too short worker timeout or by a memory leak.\n",
      "  warnings.warn(\n"
     ]
    },
    {
     "data": {
      "text/plain": [
       "(fraud_bool\n",
       " 0    982612\n",
       " 1     10995\n",
       " Name: count, dtype: int64,\n",
       " fraud_bool\n",
       " 0    109969\n",
       " 1     10995\n",
       " Name: count, dtype: int64)"
      ]
     },
     "execution_count": 34,
     "metadata": {},
     "output_type": "execute_result"
    }
   ],
   "execution_count": 34
  },
  {
   "metadata": {},
   "cell_type": "markdown",
   "source": [
    "## 1.3 Split the data & Scaling\n",
    "使用Minmax scaling，因为数据分布不符合正态分布，且存在大量异常值。"
   ],
   "id": "b17cde43c88996b2"
  },
  {
   "metadata": {
    "ExecuteTime": {
     "end_time": "2024-07-23T15:49:07.374048Z",
     "start_time": "2024-07-23T15:49:06.631552Z"
    }
   },
   "cell_type": "code",
   "source": [
    "# split\n",
    "x_train, x_test, y_train, y_test = train_test_split(X_nm, y_nm, test_size=0.2, random_state=42, shuffle=True)\n",
    "print(Counter(y_train),Counter(y_test))\n",
    "# 筛选出二进制特征\n",
    "binary_features_name = [\n",
    "    'email_is_free',\n",
    "    'phone_home_valid',\n",
    "    'phone_mobile_valid',\n",
    "    'has_other_cards',\n",
    "    'foreign_request',\n",
    "    'keep_alive_session',\n",
    "    'fraud_bool'\n",
    "]\n",
    "\n",
    "binary_features = df[binary_features_name]\n",
    "\n",
    "# 列出所有的数值型特征\n",
    "# numeric_features_name = df.select_dtypes(include=['number']).columns.tolist()\n",
    "# 去掉二进制特征\n",
    "# numeric_features_name = [col for col in numeric_features_name if col not in binary_features_name]\n",
    "\n",
    "numeric_features_name=[x for x in df.columns if df[x].nunique() >= 10]\n",
    "\n",
    "numeric_features = df[numeric_features_name]\n",
    "\n",
    "# 创建 MinMaxScaler 实例\n",
    "numeric_transformer = MinMaxScaler()\n",
    "\n",
    "# 创建 ColumnTransformer\n",
    "preprocessor = ColumnTransformer([('scaled', numeric_transformer, numeric_features_name)], remainder='passthrough')\n",
    "\n",
    "# 在训练集上拟合并转换\n",
    "x_train_scaled = preprocessor.fit_transform(x_train)\n",
    "\n",
    "# 仅转换测试集\n",
    "x_test_scaled = preprocessor.transform(x_test)\n",
    "\n",
    "# 获取列的顺序(colmuntransformer会改变列的顺序)\n",
    "new_columns = numeric_features_name + [col for col in x_train.columns if col not in numeric_features_name]\n",
    "\n",
    "# 转换后的结果通常为 NumPy 数组，将其转换回 DataFrame 并保持列名一致性\n",
    "x_train_scaled = pd.DataFrame(x_train_scaled, columns=new_columns)\n",
    "x_test_scaled = pd.DataFrame(x_test_scaled, columns=new_columns)\n",
    "\n",
    "# 确定分类特征的名称\n",
    "categorical_features_name = [col for col in x_train_scaled.columns if 2 <= x_train_scaled[col].nunique() < 10]\n",
    "\n",
    "# 确定分类特征的索引\n",
    "all_features = list(x_train_scaled.columns)  # 所有特征的名称列表\n",
    "categorical_feature_indices = [i for i, feature in enumerate(all_features) if feature in categorical_features_name]\n",
    "\n",
    "print(\"分类特征名称：\", categorical_features_name)\n",
    "print(\"分类特征索引：\", categorical_feature_indices)"
   ],
   "id": "156c847999f63806",
   "outputs": [
    {
     "name": "stdout",
     "output_type": "stream",
     "text": [
      "Counter({0: 87866, 1: 8905}) Counter({0: 22103, 1: 2090})\n",
      "分类特征名称： ['income', 'customer_age', 'email_is_free', 'phone_home_valid', 'phone_mobile_valid', 'has_other_cards', 'foreign_request', 'keep_alive_session', 'device_distinct_emails_8w', 'month', 'payment_type_AB', 'payment_type_AC', 'payment_type_AD', 'payment_type_AE', 'employment_status_CB', 'employment_status_CC', 'employment_status_CD', 'employment_status_CE', 'employment_status_CF', 'employment_status_CG', 'housing_status_BB', 'housing_status_BC', 'housing_status_BD', 'housing_status_BE', 'housing_status_BF', 'housing_status_BG', 'source_TELEAPP', 'device_os_macintosh', 'device_os_other', 'device_os_windows', 'device_os_x11']\n",
      "分类特征索引： [13, 14, 15, 16, 17, 18, 19, 20, 21, 22, 23, 24, 25, 26, 27, 28, 29, 30, 31, 32, 33, 34, 35, 36, 37, 38, 39, 40, 41, 42, 43]\n"
     ]
    }
   ],
   "execution_count": 35
  },
  {
   "metadata": {},
   "cell_type": "markdown",
   "source": [
    "# 2. Modeling\n",
    "## 2.1 Training Function\n",
    "当resample first 为 True则直接过采样然后交叉验证；\n",
    "\n",
    "否则会每次交叉验证都过采样来保证数据不泄露。"
   ],
   "id": "99d5a6b84747e6b0"
  },
  {
   "metadata": {
    "ExecuteTime": {
     "end_time": "2024-07-23T15:49:12.463568Z",
     "start_time": "2024-07-23T15:49:12.443741Z"
    }
   },
   "cell_type": "code",
   "source": [
    "def train_classifier(classifier, param_dist, X_train, y_train, encoded_features, search_type='random', scoring='roc_auc', resample_first=True, iterations=10):\n",
    "    \n",
    "    # 转换为numpy数组并确保数据类型高效\n",
    "    X_train = np.array(X_train).astype(np.float32)\n",
    "    y_train = np.array(y_train).astype(np.int32)\n",
    "    \n",
    "    # 创建交叉验证策略\n",
    "    cv = StratifiedKFold(n_splits=5, shuffle=True, random_state=42)\n",
    "    \n",
    "    # 选择评分方法\n",
    "    if scoring == 'f1':\n",
    "        scoring_method = make_scorer(f1_score, pos_label=1)  # pos_label=1 表示正类标签为1\n",
    "    elif scoring == 'recall':\n",
    "        scoring_method = make_scorer(recall_score, pos_label=1)\n",
    "    else:\n",
    "        scoring_method = scoring\n",
    "\n",
    "    # 构建采样和模型管道\n",
    "    smote_nc = SMOTENC(categorical_features=encoded_features, sampling_strategy='minority', random_state=42, n_jobs=-1)\n",
    "    if resample_first:\n",
    "        X_train, y_train = smote_nc.fit_resample(X_train, y_train)\n",
    "        pipeline = make_pipeline(classifier)\n",
    "    else:\n",
    "        pipeline = make_pipeline(smote_nc, classifier)\n",
    "    \n",
    "    # 进行超参数搜索\n",
    "    if search_type == 'random':\n",
    "        search_cv = RandomizedSearchCV(estimator=pipeline, \n",
    "                                       param_distributions=param_dist,\n",
    "                                       n_iter=iterations,\n",
    "                                       scoring=scoring_method,\n",
    "                                       n_jobs=-1,\n",
    "                                       cv=cv,\n",
    "                                       verbose=2)\n",
    "    elif search_type == 'grid':\n",
    "        search_cv = GridSearchCV(estimator=pipeline,\n",
    "                                 param_grid=param_dist,\n",
    "                                 scoring=scoring_method,\n",
    "                                 n_jobs=-1,\n",
    "                                 cv=cv,\n",
    "                                 verbose=2)\n",
    "    else:\n",
    "        raise ValueError('search_type 必须是 \"random\" 或 \"grid\"')\n",
    "        \n",
    "    # 拟合模型并返回训练好的分类器\n",
    "    search_cv.fit(X_train, y_train)\n",
    "\n",
    "    return search_cv"
   ],
   "id": "c47c5cc8fde43e79",
   "outputs": [],
   "execution_count": 36
  },
  {
   "metadata": {},
   "cell_type": "markdown",
   "source": [
    "## 2.2 Evaluate Function\n",
    "主要两个评估指标：\n",
    "- 5% FPR阈值下的recall\n",
    "- predictive equality"
   ],
   "id": "91d801312d6cb1ec"
  },
  {
   "metadata": {
    "ExecuteTime": {
     "end_time": "2024-07-23T15:49:14.430551Z",
     "start_time": "2024-07-23T15:49:14.414020Z"
    }
   },
   "cell_type": "code",
   "source": [
    "# print classification report\n",
    "def print_cls_report(y_test, y_pred, title=\"Classification Report\"):\n",
    "    report = classification_report(y_test, y_pred, output_dict=True)\n",
    "    recall = report[\"1\"][\"recall\"]\n",
    "    print(f\"{title}:\\n\", classification_report(y_test, y_pred))\n",
    "    return recall\n",
    "\n",
    "# print cv results\n",
    "def print_cv_results(model):\n",
    "    # Get the parameter and score arrays from the cv_results_ dictionary\n",
    "    means = model.cv_results_['mean_test_score']\n",
    "    params = model.cv_results_['params']\n",
    "\n",
    "    # Combine the arrays using zip()\n",
    "    combined_results = zip(means, params)\n",
    "\n",
    "    # Sort the combined array by mean_test_score in descending order\n",
    "    sorted_results = sorted(combined_results, key=lambda x: x[0], reverse=True)\n",
    "\n",
    "    # Print the mean test score and the hyperparameters as a formatted string\n",
    "    for mean, param in sorted_results:\n",
    "        print(\"mean_test_score: %f, params: %r\" % (mean, param))\n",
    "\n",
    "# plot roc curve\n",
    "def plot_roc_curves(fpr_list, tpr_list, label_list):\n",
    "    plt.figure(figsize=(8, 8))\n",
    "    for i in range(len(fpr_list)):\n",
    "        # Compute the ROC AUC score\n",
    "        roc_auc_score = auc(fpr_list[i], tpr_list[i])\n",
    "        # Plot the ROC curve\n",
    "        plt.plot(fpr_list[i], tpr_list[i], label=f'{label_list[i]} (AUC={roc_auc_score:.2f})')\n",
    "    \n",
    "    # Plot the random classifier curve\n",
    "    plt.plot([0, 1], [0, 1], 'k--', label='Random')\n",
    "    \n",
    "    # Set the plot labels and title\n",
    "    plt.xlabel('False Positive Rate')\n",
    "    plt.ylabel('True Positive Rate')\n",
    "    plt.title('Receiver Operating Characteristic (ROC) Curve')\n",
    "    plt.legend()\n",
    "    plt.show()\n",
    "\n",
    "# my_palette = sns.color_palette(\"husl\", 2)\n",
    "\n",
    "# plot confusion matrix\n",
    "def plot_con_matrix(ax, y_test, y_pred, title):\n",
    "    # Define the classes of the classification problem\n",
    "    classes = ['No Fraud', 'Fraud']\n",
    "\n",
    "    # Compute the confusion matrix\n",
    "    con_matrix = confusion_matrix(y_test, y_pred)\n",
    "\n",
    "    # Compute the values for true negatives, false positives, false negatives, and true positives\n",
    "    tn, fp, fn, tp = con_matrix.ravel()\n",
    "\n",
    "    # Compute the false positive rate\n",
    "    fpr = fp / (fp + tn)\n",
    "\n",
    "    # Plot the confusion matrix using a heatmap\n",
    "    # ax.imshow(con_matrix, interpolation='nearest', cmap=plt.cm.Blues)\n",
    "    ax.imshow(con_matrix, interpolation='nearest', cmap=plt.cm.GnBu,alpha=0.7)\n",
    "    \n",
    "    # Define the tick marks and the labels for the plot\n",
    "    tick_marks = np.arange(len(classes))\n",
    "    ax.set_xticks(tick_marks)\n",
    "    ax.set_xticklabels(classes)\n",
    "    ax.set_yticks(tick_marks)\n",
    "    ax.set_yticklabels(classes)\n",
    "\n",
    "    # Add the count of each cell of the confusion matrix to the plot\n",
    "    fmt = 'd'\n",
    "    threshold = con_matrix.max() / 2.\n",
    "    for i, j in np.ndindex(con_matrix.shape):\n",
    "        ax.text(j, i, format(con_matrix[i, j], fmt),\n",
    "                 horizontalalignment=\"center\",\n",
    "                 color=\"white\" if con_matrix[i, j] > threshold else \"black\")\n",
    "\n",
    "    # Add labels to the plot\n",
    "    ax.set_xlabel('Predicted label')\n",
    "    ax.set_ylabel('True label')\n",
    "    ax.set_title(f'{title} with {fpr*100:.2f}% FPR')"
   ],
   "id": "1aff5ea80cf90176",
   "outputs": [],
   "execution_count": 37
  },
  {
   "metadata": {
    "ExecuteTime": {
     "end_time": "2024-07-23T15:49:15.288319Z",
     "start_time": "2024-07-23T15:49:15.277769Z"
    }
   },
   "cell_type": "code",
   "source": [
    "# labels = y_test\n",
    "groups = (x_test[\"customer_age\"] > 50).map({True: \">50\", False: \"<=50\"}) \n",
    "\n",
    "# Define a function to calculate fairness metrics\n",
    "def get_fairness_metrics(y_true, y_pred, groups, FIXED_FPR):\n",
    "    g = Group()\n",
    "    aequitas_df = pd.DataFrame(\n",
    "        {\"score\": y_pred,\n",
    "         \"label_value\": y_true,\n",
    "         \"group\": groups}\n",
    "    )\n",
    "    disparities_df = g.get_crosstabs(aequitas_df, score_thresholds={\"score_val\": [FIXED_FPR]})[0]\n",
    "    predictive_equality = disparities_df[\"fpr\"].min() / disparities_df[\"fpr\"].max()\n",
    "    return predictive_equality, disparities_df\n",
    "\n",
    "# Evaluate Function\n",
    "def evaluate_classifier(classifier, x_train, y_train, x_test, y_test, groups):\n",
    "    y_train_pred = classifier.predict(x_train)\n",
    "    y_pred = classifier.predict(x_test)\n",
    "    y_prob = classifier.predict_proba(x_test)[:, 1]\n",
    "\n",
    "    fpr, tpr, thresholds = roc_curve(y_test, y_prob)\n",
    "\n",
    "    target_fpr = 0.05  # Set the target threshold at 5% FPR\n",
    "    threshold_idx = np.argmin(np.abs(fpr - target_fpr))\n",
    "    threshold = thresholds[threshold_idx]\n",
    "    \n",
    "    y_pred_threshold = (y_prob >= threshold).astype(int)\n",
    "    \n",
    "    train_set = print_cls_report(y_train, y_train_pred, title=\"Train Set\")\n",
    "    default_recall = print_cls_report(y_test, y_pred, title=\"Default Threshold\")\n",
    "    target_recall = print_cls_report(y_test, y_pred_threshold, title=f'Target Threshold @ {threshold:.2f}')\n",
    "    \n",
    "    default_predictive_equality, default_disparities_df = get_fairness_metrics(y_test, y_pred, groups, 0.5)\n",
    "    target_predictive_equality, target_disparities_df = get_fairness_metrics(y_test, y_pred_threshold, groups, target_fpr)\n",
    "    \n",
    "    print(f\"Default Predictive Equality: {default_predictive_equality:.2f}\")\n",
    "    print(f\"Target Predictive Equality: {target_predictive_equality:.2f}\")\n",
    "\n",
    "    fig, (ax1, ax2) = plt.subplots(1, 2, figsize=(10, 5))\n",
    "    \n",
    "    default_matrix = plot_con_matrix(ax1, y_test, y_pred, title='Default Threshold @ 0.50')\n",
    "    target_matrix = plot_con_matrix(ax2, y_test, y_pred_threshold, title=f'Target Threshold @ {threshold:.2f}')\n",
    "\n",
    "    plt.tight_layout()\n",
    "    plt.show()\n",
    "\n",
    "    return fpr, tpr, default_recall, target_recall, default_predictive_equality, target_predictive_equality\n"
   ],
   "id": "fda2f703f5abd196",
   "outputs": [],
   "execution_count": 38
  },
  {
   "metadata": {},
   "cell_type": "markdown",
   "source": [
    "## 2.3 Running the Model\n",
    "### 2.3.1 RandomForest"
   ],
   "id": "d5470943165aacc7"
  },
  {
   "metadata": {
    "ExecuteTime": {
     "end_time": "2024-07-23T16:47:49.642290Z",
     "start_time": "2024-07-23T16:39:26.074038Z"
    }
   },
   "cell_type": "code",
   "source": [
    "rf = RandomForestClassifier(n_jobs=-1, random_state=42)\n",
    "\n",
    "# Define a dictionary of hyperparameters for RandomForestClassifier\n",
    "rf_params = {'randomforestclassifier__n_estimators': [ 60, 80, 100,120],\n",
    "            'randomforestclassifier__criterion': ['gini', 'entropy'],\n",
    "            'randomforestclassifier__max_depth': [2, 4, 6, 8, 10],\n",
    "            'randomforestclassifier__max_features': ['sqrt', 'log2']\n",
    "            }\n",
    "\n",
    "rf_model = train_classifier(rf, rf_params, x_train_scaled, y_train, categorical_feature_indices, search_type='random', resample_first=False,scoring='f1',iterations=20)\n",
    "\n",
    "print('best params for rf:',rf_model.best_params_,'\\n')\n",
    "\n",
    "print(print_cv_results(rf_model))"
   ],
   "id": "3241a3ab7bb63f49",
   "outputs": [
    {
     "name": "stdout",
     "output_type": "stream",
     "text": [
      "Fitting 5 folds for each of 20 candidates, totalling 100 fits\n"
     ]
    },
    {
     "name": "stderr",
     "output_type": "stream",
     "text": [
      "E:\\Programming\\anaconda3\\envs\\mytorch\\lib\\site-packages\\imblearn\\over_sampling\\_smote\\base.py:645: FutureWarning: The parameter `n_jobs` has been deprecated in 0.10 and will be removed in 0.12. You can pass an nearest neighbors estimator where `n_jobs` is already set instead.\n",
      "  warnings.warn(\n"
     ]
    },
    {
     "name": "stdout",
     "output_type": "stream",
     "text": [
      "best params for rf: {'randomforestclassifier__n_estimators': 100, 'randomforestclassifier__max_features': 'sqrt', 'randomforestclassifier__max_depth': 10, 'randomforestclassifier__criterion': 'gini'} \n",
      "\n",
      "mean_test_score: 0.923810, params: {'randomforestclassifier__n_estimators': 100, 'randomforestclassifier__max_features': 'sqrt', 'randomforestclassifier__max_depth': 10, 'randomforestclassifier__criterion': 'gini'}\n",
      "mean_test_score: 0.922570, params: {'randomforestclassifier__n_estimators': 60, 'randomforestclassifier__max_features': 'sqrt', 'randomforestclassifier__max_depth': 10, 'randomforestclassifier__criterion': 'entropy'}\n",
      "mean_test_score: 0.922371, params: {'randomforestclassifier__n_estimators': 100, 'randomforestclassifier__max_features': 'log2', 'randomforestclassifier__max_depth': 10, 'randomforestclassifier__criterion': 'entropy'}\n",
      "mean_test_score: 0.921169, params: {'randomforestclassifier__n_estimators': 60, 'randomforestclassifier__max_features': 'log2', 'randomforestclassifier__max_depth': 10, 'randomforestclassifier__criterion': 'gini'}\n",
      "mean_test_score: 0.915803, params: {'randomforestclassifier__n_estimators': 100, 'randomforestclassifier__max_features': 'sqrt', 'randomforestclassifier__max_depth': 8, 'randomforestclassifier__criterion': 'gini'}\n",
      "mean_test_score: 0.912970, params: {'randomforestclassifier__n_estimators': 80, 'randomforestclassifier__max_features': 'sqrt', 'randomforestclassifier__max_depth': 8, 'randomforestclassifier__criterion': 'entropy'}\n",
      "mean_test_score: 0.904908, params: {'randomforestclassifier__n_estimators': 80, 'randomforestclassifier__max_features': 'sqrt', 'randomforestclassifier__max_depth': 6, 'randomforestclassifier__criterion': 'gini'}\n",
      "mean_test_score: 0.903275, params: {'randomforestclassifier__n_estimators': 120, 'randomforestclassifier__max_features': 'sqrt', 'randomforestclassifier__max_depth': 6, 'randomforestclassifier__criterion': 'gini'}\n",
      "mean_test_score: 0.899996, params: {'randomforestclassifier__n_estimators': 80, 'randomforestclassifier__max_features': 'log2', 'randomforestclassifier__max_depth': 6, 'randomforestclassifier__criterion': 'entropy'}\n",
      "mean_test_score: 0.894770, params: {'randomforestclassifier__n_estimators': 60, 'randomforestclassifier__max_features': 'log2', 'randomforestclassifier__max_depth': 6, 'randomforestclassifier__criterion': 'entropy'}\n",
      "mean_test_score: 0.892943, params: {'randomforestclassifier__n_estimators': 60, 'randomforestclassifier__max_features': 'sqrt', 'randomforestclassifier__max_depth': 6, 'randomforestclassifier__criterion': 'entropy'}\n",
      "mean_test_score: 0.889561, params: {'randomforestclassifier__n_estimators': 80, 'randomforestclassifier__max_features': 'log2', 'randomforestclassifier__max_depth': 4, 'randomforestclassifier__criterion': 'gini'}\n",
      "mean_test_score: 0.887006, params: {'randomforestclassifier__n_estimators': 100, 'randomforestclassifier__max_features': 'log2', 'randomforestclassifier__max_depth': 4, 'randomforestclassifier__criterion': 'gini'}\n",
      "mean_test_score: 0.884110, params: {'randomforestclassifier__n_estimators': 100, 'randomforestclassifier__max_features': 'log2', 'randomforestclassifier__max_depth': 4, 'randomforestclassifier__criterion': 'entropy'}\n",
      "mean_test_score: 0.880345, params: {'randomforestclassifier__n_estimators': 120, 'randomforestclassifier__max_features': 'sqrt', 'randomforestclassifier__max_depth': 4, 'randomforestclassifier__criterion': 'gini'}\n",
      "mean_test_score: 0.878655, params: {'randomforestclassifier__n_estimators': 80, 'randomforestclassifier__max_features': 'sqrt', 'randomforestclassifier__max_depth': 4, 'randomforestclassifier__criterion': 'gini'}\n",
      "mean_test_score: 0.870269, params: {'randomforestclassifier__n_estimators': 120, 'randomforestclassifier__max_features': 'sqrt', 'randomforestclassifier__max_depth': 4, 'randomforestclassifier__criterion': 'entropy'}\n",
      "mean_test_score: 0.863360, params: {'randomforestclassifier__n_estimators': 120, 'randomforestclassifier__max_features': 'log2', 'randomforestclassifier__max_depth': 2, 'randomforestclassifier__criterion': 'gini'}\n",
      "mean_test_score: 0.857584, params: {'randomforestclassifier__n_estimators': 120, 'randomforestclassifier__max_features': 'log2', 'randomforestclassifier__max_depth': 2, 'randomforestclassifier__criterion': 'entropy'}\n",
      "mean_test_score: 0.824828, params: {'randomforestclassifier__n_estimators': 120, 'randomforestclassifier__max_features': 'sqrt', 'randomforestclassifier__max_depth': 2, 'randomforestclassifier__criterion': 'entropy'}\n",
      "None\n"
     ]
    }
   ],
   "execution_count": 44
  },
  {
   "metadata": {
    "ExecuteTime": {
     "end_time": "2024-07-23T05:44:58.895667Z",
     "start_time": "2024-07-23T05:44:58.864588Z"
    }
   },
   "cell_type": "code",
   "source": [
    "# 假设 rf_model 是你的训练好的模型\n",
    "with open('./saved_models/rf_iht.pkl', 'wb') as file:\n",
    "    pickle.dump(rf_model, file)\n",
    "    \n",
    "print(\"Model saved successfully!\")"
   ],
   "id": "29e30578af9211f6",
   "outputs": [
    {
     "name": "stdout",
     "output_type": "stream",
     "text": [
      "Model saved successfully!\n"
     ]
    }
   ],
   "execution_count": 28
  },
  {
   "metadata": {
    "ExecuteTime": {
     "end_time": "2024-07-23T16:48:16.430151Z",
     "start_time": "2024-07-23T16:48:15.800249Z"
    }
   },
   "cell_type": "code",
   "source": "rf_fpr,rf_tpr,rf_default_recall,rf_target_recall=evaluate_classifier(rf_model,x_train_scaled,y_train,x_test_scaled,y_test,groups)",
   "id": "57b60ade199c0e13",
   "outputs": [
    {
     "name": "stderr",
     "output_type": "stream",
     "text": [
      "E:\\Programming\\anaconda3\\envs\\mytorch\\lib\\site-packages\\sklearn\\base.py:486: UserWarning: X has feature names, but RandomForestClassifier was fitted without feature names\n",
      "  warnings.warn(\n",
      "E:\\Programming\\anaconda3\\envs\\mytorch\\lib\\site-packages\\sklearn\\base.py:486: UserWarning: X has feature names, but RandomForestClassifier was fitted without feature names\n",
      "  warnings.warn(\n",
      "E:\\Programming\\anaconda3\\envs\\mytorch\\lib\\site-packages\\sklearn\\base.py:486: UserWarning: X has feature names, but RandomForestClassifier was fitted without feature names\n",
      "  warnings.warn(\n"
     ]
    },
    {
     "name": "stdout",
     "output_type": "stream",
     "text": [
      "Train Set:\n",
      "               precision    recall  f1-score   support\n",
      "\n",
      "           0       0.99      1.00      0.99     87866\n",
      "           1       0.99      0.90      0.94      8905\n",
      "\n",
      "    accuracy                           0.99     96771\n",
      "   macro avg       0.99      0.95      0.97     96771\n",
      "weighted avg       0.99      0.99      0.99     96771\n",
      "\n",
      "Default Threshold:\n",
      "               precision    recall  f1-score   support\n",
      "\n",
      "           0       0.99      1.00      0.99     22103\n",
      "           1       0.98      0.86      0.92      2090\n",
      "\n",
      "    accuracy                           0.99     24193\n",
      "   macro avg       0.99      0.93      0.95     24193\n",
      "weighted avg       0.99      0.99      0.99     24193\n",
      "\n",
      "Target Threshold @ 0.22:\n",
      "               precision    recall  f1-score   support\n",
      "\n",
      "           0       1.00      0.95      0.97     22103\n",
      "           1       0.65      0.97      0.78      2090\n",
      "\n",
      "    accuracy                           0.95     24193\n",
      "   macro avg       0.82      0.96      0.87     24193\n",
      "weighted avg       0.97      0.95      0.96     24193\n",
      "\n",
      "Default Predictive Equality: 0.38\n",
      "Target Predictive Equality: 0.56\n"
     ]
    },
    {
     "data": {
      "text/plain": [
       "<Figure size 1000x500 with 2 Axes>"
      ],
      "image/png": "[encoded data removed]"
     },
     "metadata": {},
     "output_type": "display_data"
    },
    {
     "ename": "ValueError",
     "evalue": "too many values to unpack (expected 4)",
     "output_type": "error",
     "traceback": [
      "\u001B[1;31m---------------------------------------------------------------------------\u001B[0m",
      "\u001B[1;31mValueError\u001B[0m                                Traceback (most recent call last)",
      "Cell \u001B[1;32mIn[45], line 1\u001B[0m\n\u001B[1;32m----> 1\u001B[0m rf_fpr,rf_tpr,rf_default_recall,rf_target_recall\u001B[38;5;241m=\u001B[39mevaluate_classifier(rf_model,x_train_scaled,y_train,x_test_scaled,y_test,groups)\n",
      "\u001B[1;31mValueError\u001B[0m: too many values to unpack (expected 4)"
     ]
    }
   ],
   "execution_count": 45
  },
  {
   "metadata": {},
   "cell_type": "markdown",
   "source": "### 2.3.2 XGBoost",
   "id": "f65cc1a9df92ad73"
  },
  {
   "metadata": {
    "ExecuteTime": {
     "end_time": "2024-07-23T16:25:27.112958Z",
     "start_time": "2024-07-23T16:18:30.417255Z"
    }
   },
   "cell_type": "code",
   "source": [
    "from xgboost import XGBClassifier\n",
    "\n",
    "# Instantiate a XGBClassifier model with GPU acceleration for training\n",
    "xgb = XGBClassifier(n_jobs=-1, random_state=42)\n",
    "\n",
    "# Define a dictionary of hyperparameters for XGBClassifier\n",
    "xgb_params = {'xgbclassifier__n_estimators': [20, 60, 100, 150],\n",
    "              'xgbclassifier__max_depth': [2, 4, 6, 8],\n",
    "              'xgbclassifier__learning_rate': [0.05, 0.1, 0.20],\n",
    "              'xgbclassifier__min_child_weight': [1, 2, 3, 4],\n",
    "              'xgbclassifier__subsample': [0.6, 0.8, 1.0],\n",
    "              'xgbclassifier__colsample_bytree': [0.4,0.6, 0.8, 1.0]\n",
    "             }\n",
    "\n",
    "xgb_model = train_classifier(xgb, xgb_params, x_train_scaled, y_train, categorical_feature_indices, search_type='random', resample_first=False, scoring='f1',iterations=20)\n",
    "\n",
    "print('best params for xgb:',xgb_model.best_params_,'\\n')\n",
    "\n",
    "print(print_cv_results(xgb_model))"
   ],
   "id": "bf89702dc9ee6c28",
   "outputs": [
    {
     "name": "stdout",
     "output_type": "stream",
     "text": [
      "Fitting 5 folds for each of 20 candidates, totalling 100 fits\n"
     ]
    },
    {
     "name": "stderr",
     "output_type": "stream",
     "text": [
      "E:\\Programming\\anaconda3\\envs\\mytorch\\lib\\site-packages\\imblearn\\over_sampling\\_smote\\base.py:645: FutureWarning: The parameter `n_jobs` has been deprecated in 0.10 and will be removed in 0.12. You can pass an nearest neighbors estimator where `n_jobs` is already set instead.\n",
      "  warnings.warn(\n"
     ]
    },
    {
     "name": "stdout",
     "output_type": "stream",
     "text": [
      "best params for xgb: {'xgbclassifier__subsample': 0.8, 'xgbclassifier__n_estimators': 150, 'xgbclassifier__min_child_weight': 2, 'xgbclassifier__max_depth': 8, 'xgbclassifier__learning_rate': 0.2, 'xgbclassifier__colsample_bytree': 0.8} \n",
      "\n",
      "mean_test_score: 0.970849, params: {'xgbclassifier__subsample': 0.8, 'xgbclassifier__n_estimators': 150, 'xgbclassifier__min_child_weight': 2, 'xgbclassifier__max_depth': 8, 'xgbclassifier__learning_rate': 0.2, 'xgbclassifier__colsample_bytree': 0.8}\n",
      "mean_test_score: 0.964285, params: {'xgbclassifier__subsample': 0.8, 'xgbclassifier__n_estimators': 60, 'xgbclassifier__min_child_weight': 1, 'xgbclassifier__max_depth': 6, 'xgbclassifier__learning_rate': 0.2, 'xgbclassifier__colsample_bytree': 0.8}\n",
      "mean_test_score: 0.949422, params: {'xgbclassifier__subsample': 0.8, 'xgbclassifier__n_estimators': 100, 'xgbclassifier__min_child_weight': 1, 'xgbclassifier__max_depth': 4, 'xgbclassifier__learning_rate': 0.1, 'xgbclassifier__colsample_bytree': 0.4}\n",
      "mean_test_score: 0.945690, params: {'xgbclassifier__subsample': 1.0, 'xgbclassifier__n_estimators': 60, 'xgbclassifier__min_child_weight': 2, 'xgbclassifier__max_depth': 6, 'xgbclassifier__learning_rate': 0.1, 'xgbclassifier__colsample_bytree': 0.4}\n",
      "mean_test_score: 0.944254, params: {'xgbclassifier__subsample': 0.6, 'xgbclassifier__n_estimators': 100, 'xgbclassifier__min_child_weight': 1, 'xgbclassifier__max_depth': 6, 'xgbclassifier__learning_rate': 0.05, 'xgbclassifier__colsample_bytree': 0.4}\n",
      "mean_test_score: 0.942132, params: {'xgbclassifier__subsample': 1.0, 'xgbclassifier__n_estimators': 150, 'xgbclassifier__min_child_weight': 1, 'xgbclassifier__max_depth': 2, 'xgbclassifier__learning_rate': 0.1, 'xgbclassifier__colsample_bytree': 0.4}\n",
      "mean_test_score: 0.941187, params: {'xgbclassifier__subsample': 1.0, 'xgbclassifier__n_estimators': 20, 'xgbclassifier__min_child_weight': 2, 'xgbclassifier__max_depth': 8, 'xgbclassifier__learning_rate': 0.2, 'xgbclassifier__colsample_bytree': 0.6}\n",
      "mean_test_score: 0.937079, params: {'xgbclassifier__subsample': 0.8, 'xgbclassifier__n_estimators': 60, 'xgbclassifier__min_child_weight': 2, 'xgbclassifier__max_depth': 8, 'xgbclassifier__learning_rate': 0.05, 'xgbclassifier__colsample_bytree': 0.6}\n",
      "mean_test_score: 0.933202, params: {'xgbclassifier__subsample': 0.8, 'xgbclassifier__n_estimators': 60, 'xgbclassifier__min_child_weight': 3, 'xgbclassifier__max_depth': 4, 'xgbclassifier__learning_rate': 0.1, 'xgbclassifier__colsample_bytree': 0.4}\n",
      "mean_test_score: 0.931735, params: {'xgbclassifier__subsample': 1.0, 'xgbclassifier__n_estimators': 60, 'xgbclassifier__min_child_weight': 1, 'xgbclassifier__max_depth': 6, 'xgbclassifier__learning_rate': 0.05, 'xgbclassifier__colsample_bytree': 0.4}\n",
      "mean_test_score: 0.930994, params: {'xgbclassifier__subsample': 1.0, 'xgbclassifier__n_estimators': 60, 'xgbclassifier__min_child_weight': 4, 'xgbclassifier__max_depth': 6, 'xgbclassifier__learning_rate': 0.05, 'xgbclassifier__colsample_bytree': 0.4}\n",
      "mean_test_score: 0.930268, params: {'xgbclassifier__subsample': 1.0, 'xgbclassifier__n_estimators': 60, 'xgbclassifier__min_child_weight': 2, 'xgbclassifier__max_depth': 4, 'xgbclassifier__learning_rate': 0.1, 'xgbclassifier__colsample_bytree': 0.6}\n",
      "mean_test_score: 0.926273, params: {'xgbclassifier__subsample': 1.0, 'xgbclassifier__n_estimators': 100, 'xgbclassifier__min_child_weight': 1, 'xgbclassifier__max_depth': 2, 'xgbclassifier__learning_rate': 0.1, 'xgbclassifier__colsample_bytree': 0.6}\n",
      "mean_test_score: 0.925551, params: {'xgbclassifier__subsample': 1.0, 'xgbclassifier__n_estimators': 100, 'xgbclassifier__min_child_weight': 4, 'xgbclassifier__max_depth': 2, 'xgbclassifier__learning_rate': 0.1, 'xgbclassifier__colsample_bytree': 0.8}\n",
      "mean_test_score: 0.912643, params: {'xgbclassifier__subsample': 0.8, 'xgbclassifier__n_estimators': 60, 'xgbclassifier__min_child_weight': 1, 'xgbclassifier__max_depth': 4, 'xgbclassifier__learning_rate': 0.05, 'xgbclassifier__colsample_bytree': 0.4}\n",
      "mean_test_score: 0.889995, params: {'xgbclassifier__subsample': 0.6, 'xgbclassifier__n_estimators': 60, 'xgbclassifier__min_child_weight': 1, 'xgbclassifier__max_depth': 2, 'xgbclassifier__learning_rate': 0.1, 'xgbclassifier__colsample_bytree': 0.8}\n",
      "mean_test_score: 0.886782, params: {'xgbclassifier__subsample': 0.8, 'xgbclassifier__n_estimators': 20, 'xgbclassifier__min_child_weight': 1, 'xgbclassifier__max_depth': 4, 'xgbclassifier__learning_rate': 0.05, 'xgbclassifier__colsample_bytree': 0.4}\n",
      "mean_test_score: 0.876226, params: {'xgbclassifier__subsample': 1.0, 'xgbclassifier__n_estimators': 100, 'xgbclassifier__min_child_weight': 4, 'xgbclassifier__max_depth': 2, 'xgbclassifier__learning_rate': 0.05, 'xgbclassifier__colsample_bytree': 0.8}\n",
      "mean_test_score: 0.836403, params: {'xgbclassifier__subsample': 1.0, 'xgbclassifier__n_estimators': 20, 'xgbclassifier__min_child_weight': 3, 'xgbclassifier__max_depth': 4, 'xgbclassifier__learning_rate': 0.1, 'xgbclassifier__colsample_bytree': 1.0}\n",
      "mean_test_score: 0.794790, params: {'xgbclassifier__subsample': 0.8, 'xgbclassifier__n_estimators': 20, 'xgbclassifier__min_child_weight': 4, 'xgbclassifier__max_depth': 4, 'xgbclassifier__learning_rate': 0.05, 'xgbclassifier__colsample_bytree': 0.8}\n",
      "None\n"
     ]
    }
   ],
   "execution_count": 41
  },
  {
   "metadata": {
    "ExecuteTime": {
     "end_time": "2024-07-23T05:44:19.891951Z",
     "start_time": "2024-07-23T05:44:19.866106Z"
    }
   },
   "cell_type": "code",
   "source": [
    "# 假设 xgb_model 是你的训练好的模型\n",
    "with open('./saved_models/xgb_iht.pkl', 'wb') as file:\n",
    "    pickle.dump(xgb_model, file)\n",
    "\n",
    "print(\"Model saved successfully!\")\n",
    "\n",
    "# # Load the saved model\n",
    "# with open('xgb_iht.pkl', 'rb') as file:\n",
    "#     xgb_model = pickle.load(file)\n",
    "#     \n",
    "# print(\"Model loaded successfully!\")"
   ],
   "id": "873d95fd2507cd14",
   "outputs": [
    {
     "name": "stdout",
     "output_type": "stream",
     "text": [
      "Model saved successfully!\n"
     ]
    }
   ],
   "execution_count": 26
  },
  {
   "metadata": {
    "ExecuteTime": {
     "end_time": "2024-07-23T16:35:29.047737Z",
     "start_time": "2024-07-23T16:35:28.381051Z"
    }
   },
   "cell_type": "code",
   "source": [
    "# Testing the XGBoost model using the test data and calculating metrics\n",
    "xgb_fpr, xgb_tpr, xgb_default_recall, xgb_target_recall = evaluate_classifier(xgb_model, x_train_scaled, y_train, x_test_scaled, y_test, groups)"
   ],
   "id": "e44070da39e6a31",
   "outputs": [
    {
     "name": "stdout",
     "output_type": "stream",
     "text": [
      "Train Set:\n",
      "               precision    recall  f1-score   support\n",
      "\n",
      "           0       1.00      1.00      1.00     87866\n",
      "           1       1.00      1.00      1.00      8905\n",
      "\n",
      "    accuracy                           1.00     96771\n",
      "   macro avg       1.00      1.00      1.00     96771\n",
      "weighted avg       1.00      1.00      1.00     96771\n",
      "\n",
      "Default Threshold:\n",
      "               precision    recall  f1-score   support\n",
      "\n",
      "           0       0.99      1.00      1.00     22103\n",
      "           1       1.00      0.94      0.97      2090\n",
      "\n",
      "    accuracy                           0.99     24193\n",
      "   macro avg       1.00      0.97      0.98     24193\n",
      "weighted avg       0.99      0.99      0.99     24193\n",
      "\n",
      "Target Threshold @ 0.01:\n",
      "               precision    recall  f1-score   support\n",
      "\n",
      "           0       1.00      0.95      0.97     22103\n",
      "           1       0.65      0.99      0.79      2090\n",
      "\n",
      "    accuracy                           0.95     24193\n",
      "   macro avg       0.83      0.97      0.88     24193\n",
      "weighted avg       0.97      0.95      0.96     24193\n",
      "\n",
      "Default Predictive Equality: 0.00\n",
      "Target Predictive Equality: 0.44\n"
     ]
    },
    {
     "data": {
      "text/plain": [
       "<Figure size 1000x500 with 2 Axes>"
      ],
      "image/png": "[encoded data removed]"
     },
     "metadata": {},
     "output_type": "display_data"
    },
    {
     "ename": "ValueError",
     "evalue": "too many values to unpack (expected 4)",
     "output_type": "error",
     "traceback": [
      "\u001B[1;31m---------------------------------------------------------------------------\u001B[0m",
      "\u001B[1;31mValueError\u001B[0m                                Traceback (most recent call last)",
      "Cell \u001B[1;32mIn[43], line 2\u001B[0m\n\u001B[0;32m      1\u001B[0m \u001B[38;5;66;03m# Testing the XGBoost model using the test data and calculating metrics\u001B[39;00m\n\u001B[1;32m----> 2\u001B[0m xgb_fpr, xgb_tpr, xgb_default_recall, xgb_target_recall \u001B[38;5;241m=\u001B[39m evaluate_classifier(xgb_model, x_train_scaled, y_train, x_test_scaled, y_test, groups)\n",
      "\u001B[1;31mValueError\u001B[0m: too many values to unpack (expected 4)"
     ]
    }
   ],
   "execution_count": 43
  },
  {
   "metadata": {},
   "cell_type": "markdown",
   "source": [
    "### 2.3.3 LightGBM\n",
    "\n",
    "- [LightGBM] [Info] Total Bins 3398\n",
    "表示所有特征的总bin数（区间数）。LightGBM在内部会将连续特征离散化成多个bin，这里总共使用了3398个bin。\n",
    "- [LightGBM] [Info] Auto-choosing row-wise multi-threading, the overhead of testing was 0.008127 seconds.\n",
    "LightGBM自动选择了行方向多线程处理，测试开销为0.008127秒。LightGBM可以选择按行或按列进行多线程处理。行方向多线程处理通常适用于大多数情况。可以选择列方向多线程处理，但是在某些情况下可能会导致性能下降，但是能减少内存占用情况。"
   ],
   "id": "6cd0d958b152e151"
  },
  {
   "metadata": {
    "ExecuteTime": {
     "end_time": "2024-07-23T16:05:19.978712Z",
     "start_time": "2024-07-23T15:52:10.172134Z"
    }
   },
   "cell_type": "code",
   "source": [
    "from lightgbm import LGBMClassifier\n",
    "lgb = LGBMClassifier(n_jobs=-1, random_state=42)\n",
    "\n",
    "# Define a dictionary of hyperparameters for LGBMClassifier\n",
    "lgb_params = {'lgbmclassifier__max_depth': [2, 4, 6, 8, 10], # 最大深度\n",
    "               'lgbmclassifier__learning_rate': [0.05, 0.1, 0.15, 0.20], # 学习率\n",
    "               'lgbmclassifier__n_estimators': [60, 80, 100, 140], # 迭代次数\n",
    "               'lgbmclassifier__min_child_weight': [1, 2, 3, 4], # 最小叶子节点样本权重和\n",
    "               'lgbmclassifier__subsample': [0.6, 0.8, 1.0], # 用于训练模型的子样本占整个样本集合的比例\n",
    "               'lgbmclassifier__colsample_bytree': [0.6, 0.8, 1.0] # 在建立树时对特征随机采样的比例\n",
    "              }\n",
    "\n",
    "lgb_model = train_classifier(lgb, lgb_params, x_train_scaled, y_train, categorical_feature_indices, search_type='random', resample_first=False, scoring='f1',iterations=20)\n",
    "\n",
    "print('\\nbest params for lgb:',lgb_model.best_params_,'\\n')\n",
    "\n",
    "print(print_cv_results(lgb_model))"
   ],
   "id": "446e0b49e8868f70",
   "outputs": [
    {
     "name": "stdout",
     "output_type": "stream",
     "text": [
      "Fitting 5 folds for each of 20 candidates, totalling 100 fits\n"
     ]
    },
    {
     "name": "stderr",
     "output_type": "stream",
     "text": [
      "E:\\Programming\\anaconda3\\envs\\mytorch\\lib\\site-packages\\imblearn\\over_sampling\\_smote\\base.py:645: FutureWarning: The parameter `n_jobs` has been deprecated in 0.10 and will be removed in 0.12. You can pass an nearest neighbors estimator where `n_jobs` is already set instead.\n",
      "  warnings.warn(\n"
     ]
    },
    {
     "name": "stdout",
     "output_type": "stream",
     "text": [
      "[LightGBM] [Info] Number of positive: 87866, number of negative: 87866\n",
      "[LightGBM] [Info] Auto-choosing row-wise multi-threading, the overhead of testing was 0.008127 seconds.\n",
      "You can set `force_row_wise=true` to remove the overhead.\n",
      "And if memory is not enough, you can set `force_col_wise=true`.\n",
      "[LightGBM] [Info] Total Bins 3398\n",
      "[LightGBM] [Info] Number of data points in the train set: 175732, number of used features: 43\n",
      "[LightGBM] [Info] [binary:BoostFromScore]: pavg=0.500000 -> initscore=0.000000\n",
      "\n",
      "best params for lgb: {'lgbmclassifier__subsample': 0.8, 'lgbmclassifier__n_estimators': 140, 'lgbmclassifier__min_child_weight': 1, 'lgbmclassifier__max_depth': 8, 'lgbmclassifier__learning_rate': 0.2, 'lgbmclassifier__colsample_bytree': 0.8} \n",
      "\n",
      "mean_test_score: 0.973307, params: {'lgbmclassifier__subsample': 0.8, 'lgbmclassifier__n_estimators': 140, 'lgbmclassifier__min_child_weight': 1, 'lgbmclassifier__max_depth': 8, 'lgbmclassifier__learning_rate': 0.2, 'lgbmclassifier__colsample_bytree': 0.8}\n",
      "mean_test_score: 0.973034, params: {'lgbmclassifier__subsample': 1.0, 'lgbmclassifier__n_estimators': 140, 'lgbmclassifier__min_child_weight': 4, 'lgbmclassifier__max_depth': 10, 'lgbmclassifier__learning_rate': 0.15, 'lgbmclassifier__colsample_bytree': 0.6}\n",
      "mean_test_score: 0.972469, params: {'lgbmclassifier__subsample': 0.6, 'lgbmclassifier__n_estimators': 140, 'lgbmclassifier__min_child_weight': 2, 'lgbmclassifier__max_depth': 10, 'lgbmclassifier__learning_rate': 0.2, 'lgbmclassifier__colsample_bytree': 1.0}\n",
      "mean_test_score: 0.969936, params: {'lgbmclassifier__subsample': 1.0, 'lgbmclassifier__n_estimators': 80, 'lgbmclassifier__min_child_weight': 3, 'lgbmclassifier__max_depth': 6, 'lgbmclassifier__learning_rate': 0.2, 'lgbmclassifier__colsample_bytree': 0.8}\n",
      "mean_test_score: 0.968947, params: {'lgbmclassifier__subsample': 0.6, 'lgbmclassifier__n_estimators': 100, 'lgbmclassifier__min_child_weight': 2, 'lgbmclassifier__max_depth': 6, 'lgbmclassifier__learning_rate': 0.15, 'lgbmclassifier__colsample_bytree': 0.8}\n",
      "mean_test_score: 0.968377, params: {'lgbmclassifier__subsample': 0.6, 'lgbmclassifier__n_estimators': 140, 'lgbmclassifier__min_child_weight': 3, 'lgbmclassifier__max_depth': 4, 'lgbmclassifier__learning_rate': 0.15, 'lgbmclassifier__colsample_bytree': 0.6}\n",
      "mean_test_score: 0.964978, params: {'lgbmclassifier__subsample': 0.6, 'lgbmclassifier__n_estimators': 60, 'lgbmclassifier__min_child_weight': 4, 'lgbmclassifier__max_depth': 8, 'lgbmclassifier__learning_rate': 0.2, 'lgbmclassifier__colsample_bytree': 0.8}\n",
      "mean_test_score: 0.963644, params: {'lgbmclassifier__subsample': 1.0, 'lgbmclassifier__n_estimators': 80, 'lgbmclassifier__min_child_weight': 1, 'lgbmclassifier__max_depth': 6, 'lgbmclassifier__learning_rate': 0.15, 'lgbmclassifier__colsample_bytree': 0.6}\n",
      "mean_test_score: 0.963046, params: {'lgbmclassifier__subsample': 0.6, 'lgbmclassifier__n_estimators': 60, 'lgbmclassifier__min_child_weight': 3, 'lgbmclassifier__max_depth': 8, 'lgbmclassifier__learning_rate': 0.2, 'lgbmclassifier__colsample_bytree': 1.0}\n",
      "mean_test_score: 0.961622, params: {'lgbmclassifier__subsample': 0.6, 'lgbmclassifier__n_estimators': 100, 'lgbmclassifier__min_child_weight': 3, 'lgbmclassifier__max_depth': 8, 'lgbmclassifier__learning_rate': 0.1, 'lgbmclassifier__colsample_bytree': 0.8}\n",
      "mean_test_score: 0.961463, params: {'lgbmclassifier__subsample': 1.0, 'lgbmclassifier__n_estimators': 100, 'lgbmclassifier__min_child_weight': 4, 'lgbmclassifier__max_depth': 10, 'lgbmclassifier__learning_rate': 0.1, 'lgbmclassifier__colsample_bytree': 0.6}\n",
      "mean_test_score: 0.957042, params: {'lgbmclassifier__subsample': 1.0, 'lgbmclassifier__n_estimators': 80, 'lgbmclassifier__min_child_weight': 1, 'lgbmclassifier__max_depth': 4, 'lgbmclassifier__learning_rate': 0.15, 'lgbmclassifier__colsample_bytree': 0.6}\n",
      "mean_test_score: 0.954397, params: {'lgbmclassifier__subsample': 1.0, 'lgbmclassifier__n_estimators': 80, 'lgbmclassifier__min_child_weight': 1, 'lgbmclassifier__max_depth': 8, 'lgbmclassifier__learning_rate': 0.1, 'lgbmclassifier__colsample_bytree': 1.0}\n",
      "mean_test_score: 0.951740, params: {'lgbmclassifier__subsample': 0.8, 'lgbmclassifier__n_estimators': 100, 'lgbmclassifier__min_child_weight': 3, 'lgbmclassifier__max_depth': 4, 'lgbmclassifier__learning_rate': 0.1, 'lgbmclassifier__colsample_bytree': 1.0}\n",
      "mean_test_score: 0.950784, params: {'lgbmclassifier__subsample': 1.0, 'lgbmclassifier__n_estimators': 100, 'lgbmclassifier__min_child_weight': 4, 'lgbmclassifier__max_depth': 2, 'lgbmclassifier__learning_rate': 0.2, 'lgbmclassifier__colsample_bytree': 1.0}\n",
      "mean_test_score: 0.950464, params: {'lgbmclassifier__subsample': 0.8, 'lgbmclassifier__n_estimators': 140, 'lgbmclassifier__min_child_weight': 2, 'lgbmclassifier__max_depth': 8, 'lgbmclassifier__learning_rate': 0.05, 'lgbmclassifier__colsample_bytree': 0.6}\n",
      "mean_test_score: 0.948987, params: {'lgbmclassifier__subsample': 1.0, 'lgbmclassifier__n_estimators': 60, 'lgbmclassifier__min_child_weight': 2, 'lgbmclassifier__max_depth': 4, 'lgbmclassifier__learning_rate': 0.15, 'lgbmclassifier__colsample_bytree': 0.6}\n",
      "mean_test_score: 0.942960, params: {'lgbmclassifier__subsample': 0.6, 'lgbmclassifier__n_estimators': 80, 'lgbmclassifier__min_child_weight': 4, 'lgbmclassifier__max_depth': 2, 'lgbmclassifier__learning_rate': 0.2, 'lgbmclassifier__colsample_bytree': 0.8}\n",
      "mean_test_score: 0.933276, params: {'lgbmclassifier__subsample': 1.0, 'lgbmclassifier__n_estimators': 80, 'lgbmclassifier__min_child_weight': 3, 'lgbmclassifier__max_depth': 2, 'lgbmclassifier__learning_rate': 0.15, 'lgbmclassifier__colsample_bytree': 1.0}\n",
      "mean_test_score: 0.919166, params: {'lgbmclassifier__subsample': 0.6, 'lgbmclassifier__n_estimators': 60, 'lgbmclassifier__min_child_weight': 2, 'lgbmclassifier__max_depth': 2, 'lgbmclassifier__learning_rate': 0.15, 'lgbmclassifier__colsample_bytree': 0.6}\n",
      "None\n"
     ]
    }
   ],
   "execution_count": 39
  },
  {
   "metadata": {
    "ExecuteTime": {
     "end_time": "2024-07-23T16:15:42.538987Z",
     "start_time": "2024-07-23T16:15:41.967811Z"
    }
   },
   "cell_type": "code",
   "source": "lgb_fpr, lgb_tpr, lgb_default_recall, lgb_target_recall = evaluate_classifier(lgb_model, x_train_scaled, y_train, x_test_scaled, y_test, groups)",
   "id": "7ea40e8fea728fe4",
   "outputs": [
    {
     "name": "stdout",
     "output_type": "stream",
     "text": [
      "Train Set:\n",
      "               precision    recall  f1-score   support\n",
      "\n",
      "           0       1.00      1.00      1.00     87866\n",
      "           1       1.00      1.00      1.00      8905\n",
      "\n",
      "    accuracy                           1.00     96771\n",
      "   macro avg       1.00      1.00      1.00     96771\n",
      "weighted avg       1.00      1.00      1.00     96771\n",
      "\n",
      "Default Threshold:\n",
      "               precision    recall  f1-score   support\n",
      "\n",
      "           0       1.00      1.00      1.00     22103\n",
      "           1       0.99      0.95      0.97      2090\n",
      "\n",
      "    accuracy                           1.00     24193\n",
      "   macro avg       0.99      0.98      0.99     24193\n",
      "weighted avg       1.00      1.00      1.00     24193\n",
      "\n",
      "Target Threshold @ 0.01:\n",
      "               precision    recall  f1-score   support\n",
      "\n",
      "           0       1.00      0.95      0.98     22103\n",
      "           1       0.66      0.99      0.79      2090\n",
      "\n",
      "    accuracy                           0.96     24193\n",
      "   macro avg       0.83      0.97      0.89     24193\n",
      "weighted avg       0.97      0.96      0.96     24193\n",
      "\n",
      "Default Predictive Equality: 0.14\n",
      "Target Predictive Equality: 0.39\n"
     ]
    },
    {
     "data": {
      "text/plain": [
       "<Figure size 1000x500 with 2 Axes>"
      ],
      "image/png": "[encoded data removed]"
     },
     "metadata": {},
     "output_type": "display_data"
    },
    {
     "ename": "ValueError",
     "evalue": "too many values to unpack (expected 4)",
     "output_type": "error",
     "traceback": [
      "\u001B[1;31m---------------------------------------------------------------------------\u001B[0m",
      "\u001B[1;31mValueError\u001B[0m                                Traceback (most recent call last)",
      "Cell \u001B[1;32mIn[40], line 1\u001B[0m\n\u001B[1;32m----> 1\u001B[0m lgb_fpr, lgb_tpr, lgb_default_recall, lgb_target_recall \u001B[38;5;241m=\u001B[39m evaluate_classifier(lgb_model, x_train_scaled, y_train, x_test_scaled, y_test, groups)\n",
      "\u001B[1;31mValueError\u001B[0m: too many values to unpack (expected 4)"
     ]
    }
   ],
   "execution_count": 40
  }
 ],
 "metadata": {
  "kernelspec": {
   "display_name": "Python 3",
   "language": "python",
   "name": "python3"
  },
  "language_info": {
   "codemirror_mode": {
    "name": "ipython",
    "version": 2
   },
   "file_extension": ".py",
   "mimetype": "text/x-python",
   "name": "python",
   "nbconvert_exporter": "python",
   "pygments_lexer": "ipython2",
   "version": "2.7.6"
  }
 },
 "nbformat": 4,
 "nbformat_minor": 5
}
