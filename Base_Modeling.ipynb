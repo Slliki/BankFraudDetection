{
 "cells": [
  {
   "cell_type": "code",
   "id": "initial_id",
   "metadata": {
    "collapsed": true,
    "ExecuteTime": {
     "end_time": "2024-07-13T05:16:28.466873Z",
     "start_time": "2024-07-13T05:16:28.005689Z"
    }
   },
   "source": [
    "import pandas as pd\n",
    "import numpy as np\n",
    "import matplotlib.pyplot as plt\n",
    "import seaborn as sns\n",
    "from sklearn.model_selection import train_test_split\n",
    "from sklearn.preprocessing import StandardScaler\n",
    "from sklearn.linear_model import LogisticRegression\n",
    "from sklearn.metrics import accuracy_score, confusion_matrix, classification_report\n",
    "from sklearn.preprocessing import MinMaxScaler\n",
    "from sklearn.compose import ColumnTransformer\n",
    "from imblearn.over_sampling import SMOTENC\n",
    "from imblearn.over_sampling import SMOTENC\n",
    "from sklearn.feature_selection import SelectKBest, chi2, mutual_info_classif\n",
    "from sklearn.ensemble import ExtraTreesClassifier\n",
    "from sklearn.feature_selection import RFE"
   ],
   "outputs": [],
   "execution_count": 1
  },
  {
   "metadata": {},
   "cell_type": "markdown",
   "source": [
    "# 1. Load Data\n",
    "\n",
    "#### 数据形状（训练集经过重采样）\n",
    "x_train: (1572164, 49)\n",
    "   - fraud_bool--- 0:1=786082:786082\n",
    "    \n",
    "x_test: (357908, 49)\n",
    "   - fraud_bool--- 0:1=196530:2192"
   ],
   "id": "cbbe994652bf4ab7"
  },
  {
   "metadata": {
    "ExecuteTime": {
     "end_time": "2024-07-13T06:16:03.002223Z",
     "start_time": "2024-07-13T06:15:54.806939Z"
    }
   },
   "cell_type": "code",
   "source": [
    "train_set_resampled= pd.read_csv('./datasets/base_train_resampled.csv')\n",
    "x_train_resampled= train_set_resampled.drop(columns=['fraud_bool'])\n",
    "y_train_resampled= train_set_resampled['fraud_bool']\\\n",
    "\n",
    "test_set= pd.read_csv('./datasets/base_test_scaled.csv')\n",
    "x_test= test_set.drop(columns=['fraud_bool'])\n",
    "y_test= test_set['fraud_bool']\n",
    "\n",
    "train_set = pd.read_csv('./datasets/base_train_scaled.csv')\n",
    "x_train_scaled = train_set.drop(columns=['fraud_bool'])\n",
    "y_train = train_set['fraud_bool']"
   ],
   "id": "4ccfeea281ed63ed",
   "outputs": [],
   "execution_count": 9
  },
  {
   "metadata": {},
   "cell_type": "markdown",
   "source": [
    "# 2. Baseline Model\n",
    "使用未经过重采样的数据集进行建模，作为baseline model，并与之后重采样的模型进行对比。\n",
    "\n",
    "准备使用的模型：Logistic Regression，Random Forest，XGBoost"
   ],
   "id": "4c2662b2e3b97a2a"
  },
  {
   "metadata": {},
   "cell_type": "markdown",
   "source": "## 2.1 Logistic Regression",
   "id": "6b1304be1bae9a38"
  },
  {
   "metadata": {
    "ExecuteTime": {
     "end_time": "2024-07-13T06:19:44.471047Z",
     "start_time": "2024-07-13T06:19:38.635050Z"
    }
   },
   "cell_type": "code",
   "source": [
    "# 逻辑回归分类器\n",
    "log_reg = LogisticRegression()\n",
    "log_reg.fit(x_train_scaled, y_train)\n",
    "y_pred = log_reg.predict(x_test)\n",
    "print('Classification Report: \\n', classification_report(y_test, y_pred))\n"
   ],
   "id": "4749074d0b99260",
   "outputs": [
    {
     "name": "stdout",
     "output_type": "stream",
     "text": [
      "Classification Report: \n",
      "               precision    recall  f1-score   support\n",
      "\n",
      "           0       0.99      1.00      0.99    196530\n",
      "           1       0.51      0.01      0.02      2192\n",
      "\n",
      "    accuracy                           0.99    198722\n",
      "   macro avg       0.75      0.50      0.51    198722\n",
      "weighted avg       0.98      0.99      0.98    198722\n",
      "\n"
     ]
    },
    {
     "name": "stderr",
     "output_type": "stream",
     "text": [
      "E:\\Programming\\anaconda3\\envs\\mytorch\\lib\\site-packages\\sklearn\\linear_model\\_logistic.py:460: ConvergenceWarning: lbfgs failed to converge (status=1):\n",
      "STOP: TOTAL NO. of ITERATIONS REACHED LIMIT.\n",
      "\n",
      "Increase the number of iterations (max_iter) or scale the data as shown in:\n",
      "    https://scikit-learn.org/stable/modules/preprocessing.html\n",
      "Please also refer to the documentation for alternative solver options:\n",
      "    https://scikit-learn.org/stable/modules/linear_model.html#logistic-regression\n",
      "  n_iter_i = _check_optimize_result(\n"
     ]
    }
   ],
   "execution_count": 15
  },
  {
   "metadata": {
    "ExecuteTime": {
     "end_time": "2024-07-13T06:24:20.239142Z",
     "start_time": "2024-07-13T06:24:08.651585Z"
    }
   },
   "cell_type": "code",
   "source": [
    "log_reg2 = LogisticRegression()\n",
    "log_reg2.fit(x_train_resampled, y_train_resampled)\n",
    "y_pred2 = log_reg2.predict(x_test)\n",
    "print('Classification Report: \\n', classification_report(y_test, y_pred2))"
   ],
   "id": "13c70fae29cba89e",
   "outputs": [
    {
     "name": "stdout",
     "output_type": "stream",
     "text": [
      "Classification Report: \n",
      "               precision    recall  f1-score   support\n",
      "\n",
      "           0       0.99      0.91      0.95    196530\n",
      "           1       0.06      0.54      0.11      2192\n",
      "\n",
      "    accuracy                           0.91    198722\n",
      "   macro avg       0.53      0.72      0.53    198722\n",
      "weighted avg       0.98      0.91      0.94    198722\n",
      "\n"
     ]
    },
    {
     "name": "stderr",
     "output_type": "stream",
     "text": [
      "E:\\Programming\\anaconda3\\envs\\mytorch\\lib\\site-packages\\sklearn\\linear_model\\_logistic.py:460: ConvergenceWarning: lbfgs failed to converge (status=1):\n",
      "STOP: TOTAL NO. of ITERATIONS REACHED LIMIT.\n",
      "\n",
      "Increase the number of iterations (max_iter) or scale the data as shown in:\n",
      "    https://scikit-learn.org/stable/modules/preprocessing.html\n",
      "Please also refer to the documentation for alternative solver options:\n",
      "    https://scikit-learn.org/stable/modules/linear_model.html#logistic-regression\n",
      "  n_iter_i = _check_optimize_result(\n"
     ]
    }
   ],
   "execution_count": 16
  }
 ],
 "metadata": {
  "kernelspec": {
   "display_name": "Python 3",
   "language": "python",
   "name": "python3"
  },
  "language_info": {
   "codemirror_mode": {
    "name": "ipython",
    "version": 2
   },
   "file_extension": ".py",
   "mimetype": "text/x-python",
   "name": "python",
   "nbconvert_exporter": "python",
   "pygments_lexer": "ipython2",
   "version": "2.7.6"
  }
 },
 "nbformat": 4,
 "nbformat_minor": 5
}
