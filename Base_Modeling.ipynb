{
 "cells": [
  {
   "cell_type": "code",
   "id": "initial_id",
   "metadata": {
    "collapsed": true,
    "ExecuteTime": {
     "end_time": "2024-07-13T15:35:02.645269Z",
     "start_time": "2024-07-13T15:35:02.164403Z"
    }
   },
   "source": [
    "import pandas as pd\n",
    "import numpy as np\n",
    "import matplotlib.pyplot as plt\n",
    "import seaborn as sns\n",
    "from sklearn.model_selection import train_test_split\n",
    "from sklearn.preprocessing import StandardScaler\n",
    "from sklearn.linear_model import LogisticRegression\n",
    "from sklearn.metrics import accuracy_score, confusion_matrix, classification_report\n",
    "from sklearn.preprocessing import MinMaxScaler\n",
    "from sklearn.compose import ColumnTransformer\n",
    "from imblearn.over_sampling import SMOTENC\n",
    "from imblearn.over_sampling import SMOTENC\n",
    "from sklearn.feature_selection import SelectKBest, chi2, mutual_info_classif\n",
    "from sklearn.ensemble import ExtraTreesClassifier\n",
    "from sklearn.feature_selection import RFE\n",
    "from sklearn.ensemble import RandomForestClassifier"
   ],
   "outputs": [],
   "execution_count": 1
  },
  {
   "metadata": {},
   "cell_type": "markdown",
   "source": [
    "# 1. Load Data\n",
    "\n",
    "#### one-hot编码后的特征数为49\n",
    "x_train: (1572164, 49)\n",
    "   - fraud_bool--- 0:1=786082:786082\n",
    "    \n",
    "x_test: (357908, 49)\n",
    "   - fraud_bool--- 0:1=196530:2192\n",
    "\n",
    "#### label encoding后的特征数为28\n",
    "x_train: (1572164, 28)\n",
    "   - fraud_bool--- 0:1=786082:786082\n",
    "\n",
    "x_test: (357908, 28)\n",
    "    - fraud_bool--- 0:1=196530:2192"
   ],
   "id": "cbbe994652bf4ab7"
  },
  {
   "metadata": {
    "ExecuteTime": {
     "end_time": "2024-07-13T16:15:08.827499Z",
     "start_time": "2024-07-13T16:15:03.314080Z"
    }
   },
   "cell_type": "code",
   "source": [
    "train_set_resampled= pd.read_csv('./datasets/base_train_resampled.csv')\n",
    "x_train_resampled= train_set_resampled.drop(columns=['fraud_bool'])\n",
    "y_train_resampled= train_set_resampled['fraud_bool']\n",
    "\n",
    "test_set= pd.read_csv('./datasets/base_test_scaled.csv')\n",
    "x_test= test_set.drop(columns=['fraud_bool'])\n",
    "y_test= test_set['fraud_bool']\n",
    "\n",
    "train_set = pd.read_csv('./datasets/base_train_scaled.csv')\n",
    "x_train_scaled = train_set.drop(columns=['fraud_bool'])\n",
    "y_train = train_set['fraud_bool']"
   ],
   "id": "4ccfeea281ed63ed",
   "outputs": [],
   "execution_count": 14
  },
  {
   "metadata": {},
   "cell_type": "markdown",
   "source": [
    "# 2. Modeling\n",
    "使用未经过重采样的数据集进行建模，作为baseline model，并与之后重采样的模型进行对比。\n",
    "\n",
    "准备使用的模型：Logistic Regression，Random Forest，XGBoost"
   ],
   "id": "4c2662b2e3b97a2a"
  },
  {
   "metadata": {},
   "cell_type": "markdown",
   "source": "## 2.1 Logistic Regression",
   "id": "6b1304be1bae9a38"
  },
  {
   "metadata": {
    "ExecuteTime": {
     "end_time": "2024-07-13T16:16:51.965501Z",
     "start_time": "2024-07-13T16:16:39.468484Z"
    }
   },
   "cell_type": "code",
   "source": [
    "# 逻辑回归分类器\n",
    "log_reg = LogisticRegression()\n",
    "log_reg.fit(x_train_scaled, y_train)\n",
    "y_pred = log_reg.predict(x_test)\n",
    "print('test set:Scaled Classification Report: \\n', classification_report(y_test, y_pred,digits=4))\n",
    "\n",
    "log_reg2 = LogisticRegression()\n",
    "log_reg2.fit(x_train_resampled, y_train_resampled)\n",
    "y_pred2 = log_reg2.predict(x_test)\n",
    "print('test set:Resampled Classification Report: \\n', classification_report(y_test, y_pred2,digits=4))\n",
    "\n",
    "y_train_pred=log_reg2.predict(x_train_resampled)\n",
    "print('train set:Resampled Classification Report: \\n', classification_report(y_train_resampled, y_train_pred,digits=4))"
   ],
   "id": "13c70fae29cba89e",
   "outputs": [
    {
     "name": "stderr",
     "output_type": "stream",
     "text": [
      "E:\\Programming\\anaconda3\\envs\\mytorch\\lib\\site-packages\\sklearn\\linear_model\\_logistic.py:460: ConvergenceWarning: lbfgs failed to converge (status=1):\n",
      "STOP: TOTAL NO. of ITERATIONS REACHED LIMIT.\n",
      "\n",
      "Increase the number of iterations (max_iter) or scale the data as shown in:\n",
      "    https://scikit-learn.org/stable/modules/preprocessing.html\n",
      "Please also refer to the documentation for alternative solver options:\n",
      "    https://scikit-learn.org/stable/modules/linear_model.html#logistic-regression\n",
      "  n_iter_i = _check_optimize_result(\n"
     ]
    },
    {
     "name": "stdout",
     "output_type": "stream",
     "text": [
      "test set:Scaled Classification Report: \n",
      "               precision    recall  f1-score   support\n",
      "\n",
      "           0     0.9890    0.9999    0.9945    196530\n",
      "           1     0.5000    0.0055    0.0108      2192\n",
      "\n",
      "    accuracy                         0.9890    198722\n",
      "   macro avg     0.7445    0.5027    0.5026    198722\n",
      "weighted avg     0.9836    0.9890    0.9836    198722\n",
      "\n"
     ]
    },
    {
     "name": "stderr",
     "output_type": "stream",
     "text": [
      "E:\\Programming\\anaconda3\\envs\\mytorch\\lib\\site-packages\\sklearn\\linear_model\\_logistic.py:460: ConvergenceWarning: lbfgs failed to converge (status=1):\n",
      "STOP: TOTAL NO. of ITERATIONS REACHED LIMIT.\n",
      "\n",
      "Increase the number of iterations (max_iter) or scale the data as shown in:\n",
      "    https://scikit-learn.org/stable/modules/preprocessing.html\n",
      "Please also refer to the documentation for alternative solver options:\n",
      "    https://scikit-learn.org/stable/modules/linear_model.html#logistic-regression\n",
      "  n_iter_i = _check_optimize_result(\n"
     ]
    },
    {
     "name": "stdout",
     "output_type": "stream",
     "text": [
      "test set:Resampled Classification Report: \n",
      "               precision    recall  f1-score   support\n",
      "\n",
      "           0     0.9949    0.8674    0.9268    196530\n",
      "           1     0.0484    0.6049    0.0897      2192\n",
      "\n",
      "    accuracy                         0.8645    198722\n",
      "   macro avg     0.5217    0.7362    0.5082    198722\n",
      "weighted avg     0.9845    0.8645    0.9176    198722\n",
      "\n",
      "train set:Resampled Classification Report: \n",
      "               precision    recall  f1-score   support\n",
      "\n",
      "           0     0.8887    0.8671    0.8778    786082\n",
      "           1     0.8703    0.8914    0.8807    786082\n",
      "\n",
      "    accuracy                         0.8793   1572164\n",
      "   macro avg     0.8795    0.8793    0.8792   1572164\n",
      "weighted avg     0.8795    0.8793    0.8792   1572164\n",
      "\n"
     ]
    }
   ],
   "execution_count": 17
  },
  {
   "metadata": {},
   "cell_type": "markdown",
   "source": "## 2.2 Random Forest",
   "id": "763206f28d53b44"
  },
  {
   "metadata": {
    "ExecuteTime": {
     "end_time": "2024-07-13T16:17:09.966848Z",
     "start_time": "2024-07-13T16:16:55.158279Z"
    }
   },
   "cell_type": "code",
   "source": [
    "# 未采样\n",
    "rf = RandomForestClassifier(n_estimators=50, random_state=42, n_jobs=-1, class_weight='balanced', max_depth=10)\n",
    "rf.fit(x_train_scaled, y_train)\n",
    "y_pred = rf.predict(x_test)\n",
    "print('test set:Scaled Classification Report: \\n', classification_report(y_test, y_pred,digits=4))\n",
    "\n",
    "y_train_pred=rf.predict(x_train_scaled)\n",
    "print('train set:Scaled Classification Report: \\n', classification_report(y_train, y_train_pred,digits=4))"
   ],
   "id": "db666a0d8974494",
   "outputs": [
    {
     "name": "stdout",
     "output_type": "stream",
     "text": [
      "test set:Scaled Classification Report: \n",
      "               precision    recall  f1-score   support\n",
      "\n",
      "           0     0.9959    0.8747    0.9314    196530\n",
      "           1     0.0569    0.6779    0.1050      2192\n",
      "\n",
      "    accuracy                         0.8725    198722\n",
      "   macro avg     0.5264    0.7763    0.5182    198722\n",
      "weighted avg     0.9856    0.8725    0.9223    198722\n",
      "\n",
      "train set:Scaled Classification Report: \n",
      "               precision    recall  f1-score   support\n",
      "\n",
      "           0     0.9975    0.8756    0.9326    786082\n",
      "           1     0.0673    0.8017    0.1242      8803\n",
      "\n",
      "    accuracy                         0.8748    794885\n",
      "   macro avg     0.5324    0.8386    0.5284    794885\n",
      "weighted avg     0.9872    0.8748    0.9236    794885\n",
      "\n"
     ]
    }
   ],
   "execution_count": 18
  },
  {
   "metadata": {
    "ExecuteTime": {
     "end_time": "2024-07-13T16:28:51.415449Z",
     "start_time": "2024-07-13T16:28:03.999930Z"
    }
   },
   "cell_type": "code",
   "source": [
    "rf2 = RandomForestClassifier(n_estimators=50, random_state=42, n_jobs=-1,max_depth=10)\n",
    "rf2.fit(x_train_resampled, y_train_resampled)\n",
    "y_pred2 = rf2.predict(x_test)\n",
    "print('test set:Resampled Classification Report: \\n', classification_report(y_test, y_pred2,digits=4))\n",
    "\n",
    "y_train_pred=rf2.predict(x_train_resampled)\n",
    "print('train set:Resampled Classification Report: \\n', classification_report(y_train_resampled, y_train_pred,digits=4))"
   ],
   "id": "9973904e7dfa3d73",
   "outputs": [
    {
     "name": "stdout",
     "output_type": "stream",
     "text": [
      "test set:Resampled Classification Report: \n",
      "               precision    recall  f1-score   support\n",
      "\n",
      "           0     0.9946    0.9147    0.9530    196530\n",
      "           1     0.0677    0.5552    0.1206      2192\n",
      "\n",
      "    accuracy                         0.9107    198722\n",
      "   macro avg     0.5311    0.7349    0.5368    198722\n",
      "weighted avg     0.9844    0.9107    0.9438    198722\n",
      "\n",
      "train set:Resampled Classification Report: \n",
      "               precision    recall  f1-score   support\n",
      "\n",
      "           0     0.9236    0.9148    0.9192    786082\n",
      "           1     0.9156    0.9244    0.9200    786082\n",
      "\n",
      "    accuracy                         0.9196   1572164\n",
      "   macro avg     0.9196    0.9196    0.9196   1572164\n",
      "weighted avg     0.9196    0.9196    0.9196   1572164\n",
      "\n"
     ]
    }
   ],
   "execution_count": 26
  },
  {
   "metadata": {},
   "cell_type": "markdown",
   "source": "## 2.3 XGBoost\n",
   "id": "d08eebf21ebcf84c"
  },
  {
   "metadata": {
    "ExecuteTime": {
     "end_time": "2024-07-13T16:26:59.897010Z",
     "start_time": "2024-07-13T16:26:26.887449Z"
    }
   },
   "cell_type": "code",
   "source": [
    "import xgboost as xgb\n",
    "\n",
    "# 重采样前的数据集\n",
    "# objective=\"binary:logistic\" 二分类问题\n",
    "xgb_model = xgb.XGBClassifier(objective=\"binary:logistic\", random_state=42)\n",
    "xgb_model.fit(x_train_scaled, y_train)\n",
    "y_pred = xgb_model.predict(x_test)\n",
    "print('test set:Scaled Classification Report: \\n', classification_report(y_test, y_pred,digits=4))\n",
    "\n",
    "y_train_pred=xgb_model.predict(x_train_scaled)\n",
    "print('train set:Scaled Classification Report: \\n', classification_report(y_train, y_train_pred,digits=4))"
   ],
   "id": "c517e45ca503f33b",
   "outputs": [
    {
     "name": "stdout",
     "output_type": "stream",
     "text": [
      "test set:Scaled Classification Report: \n",
      "               precision    recall  f1-score   support\n",
      "\n",
      "           0     0.9894    0.9995    0.9944    196530\n",
      "           1     0.4681    0.0401    0.0739      2192\n",
      "\n",
      "    accuracy                         0.9889    198722\n",
      "   macro avg     0.7287    0.5198    0.5342    198722\n",
      "weighted avg     0.9837    0.9889    0.9843    198722\n",
      "\n",
      "train set:Scaled Classification Report: \n",
      "               precision    recall  f1-score   support\n",
      "\n",
      "           0     0.9900    0.9998    0.9948    786082\n",
      "           1     0.8160    0.0937    0.1681      8803\n",
      "\n",
      "    accuracy                         0.9897    794885\n",
      "   macro avg     0.9030    0.5467    0.5815    794885\n",
      "weighted avg     0.9880    0.9897    0.9857    794885\n",
      "\n"
     ]
    }
   ],
   "execution_count": 24
  },
  {
   "metadata": {
    "ExecuteTime": {
     "end_time": "2024-07-13T16:26:07.634628Z",
     "start_time": "2024-07-13T16:24:57.883930Z"
    }
   },
   "cell_type": "code",
   "source": [
    "# 重采样后的数据集\n",
    "xgb_model2 = xgb.XGBClassifier(objective=\"binary:logistic\", random_state=42)\n",
    "xgb_model2.fit(x_train_resampled, y_train_resampled)\n",
    "y_pred2 = xgb_model2.predict(x_test)\n",
    "print('test set:Resampled Classification Report: \\n', classification_report(y_test, y_pred2,digits=4))\n",
    "\n",
    "y_train_pred=xgb_model2.predict(x_train_resampled)\n",
    "print('train set:Resampled Classification Report: \\n', classification_report(y_train_resampled, y_train_pred,digits=4))"
   ],
   "id": "8e302faed3b2f4bb",
   "outputs": [
    {
     "name": "stdout",
     "output_type": "stream",
     "text": [
      "test set:Resampled Classification Report: \n",
      "               precision    recall  f1-score   support\n",
      "\n",
      "           0     0.9909    0.9923    0.9916    196530\n",
      "           1     0.2085    0.1811    0.1938      2192\n",
      "\n",
      "    accuracy                         0.9834    198722\n",
      "   macro avg     0.5997    0.5867    0.5927    198722\n",
      "weighted avg     0.9822    0.9834    0.9828    198722\n",
      "\n",
      "train set:Resampled Classification Report: \n",
      "               precision    recall  f1-score   support\n",
      "\n",
      "           0     0.9859    0.9928    0.9894    786082\n",
      "           1     0.9928    0.9858    0.9893    786082\n",
      "\n",
      "    accuracy                         0.9893   1572164\n",
      "   macro avg     0.9893    0.9893    0.9893   1572164\n",
      "weighted avg     0.9893    0.9893    0.9893   1572164\n",
      "\n"
     ]
    }
   ],
   "execution_count": 23
  }
 ],
 "metadata": {
  "kernelspec": {
   "display_name": "Python 3",
   "language": "python",
   "name": "python3"
  },
  "language_info": {
   "codemirror_mode": {
    "name": "ipython",
    "version": 2
   },
   "file_extension": ".py",
   "mimetype": "text/x-python",
   "name": "python",
   "nbconvert_exporter": "python",
   "pygments_lexer": "ipython2",
   "version": "2.7.6"
  }
 },
 "nbformat": 4,
 "nbformat_minor": 5
}
